    {
     "cells": [
      {
       "cell_type": "markdown",
       "metadata": {},
       "source": [
        "# Generating reasonable SMIRKS patterns\n",
        "\n",
        "In this notebook we will demonstrate how `chemper`'s `SMIRKSifier` works to generate SMIRKS patterns for a list of molecules and assigned clustering. In other words, the goal is to generate a list of SMIRKS patterns which will maintain the clustering of molecular fragments the user specifies.  For example, imagine you have determined the force field parameters for all bonds in your molecules set. You could group the bonds based on those which should be assigned the same force constant and equilibrium bond length. The goal of `chemper`'s tools is to generate a hierarchical list of SMIRKS that will maintain your clustering. \n",
        "\n",
        "`chemper`'s `ClusterGraph` can create a single SMIRKS pattern for a group of molecular fragments. These SMIRKS patterns are fully specified using all possible SMIRKS decorators for each atom. The `SMIRKSifier` takes advantage of the `ClusterGraph` functionality and then removes unnecessary SMIRKS decorators so the final list of patterns is as generic as possible. \n",
        "\n",
        "In this example, we assume that we want to group bonds based on their bond order so all single bonds should be in one group, all double in another group, and so on. The steps shown below are as follows:\n",
        "\n",
        "1. Create `chemper` molecules for a list of SMILES \n",
        "2. Classify the bonds in each molecule as single, double, aromatic, triple. Then group those bonds (based on atom indices) into each of those categories. \n",
        "3. Use `chemper.optimize_smirks.smirksify` to automatically create a hierarchical SMIRKS pattern list, then run it to remove unecessary decorators. "
       ]
      },
      {
       "cell_type": "code",
       "execution_count": 1,
       "metadata": {},
       "outputs": [],
       "source": [
        "from chemper.mol_toolkits import mol_toolkit\n",
        "from chemper.chemper_utils import create_tuples_for_clusters\n",
        "from chemper.smirksify import SMIRKSifier, print_smirks"
       ]
      },
      {
       "cell_type": "markdown",
       "metadata": {},
       "source": [
        "## 1. Create a list of Molecules\n",
        "\n",
        "Here we chose a list of SMILES strings and then use `chemper.mol_toolkits` to create a list of molecule objects. "
       ]
      },
      {
       "cell_type": "code",
       "execution_count": 2,
       "metadata": {},
       "outputs": [],
       "source": [
        "smiles_list = [\"CCCCC\", \"c1ccccc1\", \"C1=CNC=C1\", \"CC=CC\", \"C(=O)OC\", \"C1C=CCCC1\"]\n",
        "molecules = [mol_toolkit.MolFromSmiles(s) for s in smiles_list]"
       ]
      },
      {
       "cell_type": "markdown",
       "metadata": {},
       "source": [
        "## 2. Classify bonds\n",
        "\n",
        "In this section we classify bonds based on the categories\n",
        "\n",
        "* single\n",
        "* aromatic\n",
        "* double\n",
        "* triple\n",
        "\n",
        "This is done with the utility function `create_tuples_for_clusters` which creates a list atom indices (as tuples), for each molecule\n",
        "` [ ('label', [ [(tuple of atoms for each molecule), ...] ...]) ] `.\n",
        "\n",
        "In a bond we have two indexed atoms in a SMIRKS (1 and 2) because you need two atoms in order to identify a bond. For example, in the first molecule above, there is a single bond between atoms 0 and 1. The cluster_list would specify that bond with a tuple `(0,1)`. There is a list of tuples for each molecule associated with each label.\n",
        "\n",
        "In this example, there are six molecules. As an illustration of how the cluster_list is stuctured, consider the aromatic bonds, at `cluster_list[1]`. \n",
        "Only molecules 1 and 2 have aromatic bonds. The bonds in these molecules are specified by tuples showing the atom indices for each of the aromatic bonds below.\n",
        "The other four molecules have zero aromatic bonds so the associated lists are empty as no bonds need to be specified.\n",
        "\n",
        "\n",
        "### Moving forward\n",
        "\n",
        "Obviously in the long run we don't want to start with SMIRKS pattern, however, you could imagine identifying the equilibrium bond length and force constant for a variety of bonds. You could then cluster those bonds based on which parameters they should be assigned. You could give `chemper` these clusters of bonds as well. "
       ]
      },
      {
       "cell_type": "code",
       "execution_count": 3,
       "metadata": {},
       "outputs": [],
       "source": [
        "smirks_labels = [('sing', '[*:1]-[*:2]'),\n",
        "                 ('aromatic', '[*:1]:[*:2]'),\n",
        "                 ('double', '[*:1]=[*:2]'),\n",
        "                ('triple', '[*:1]#[*:2]'), \n",
        "                ]\n",
        "cluster_list = create_tuples_for_clusters(smirks_labels, molecules)"
       ]
      },
      {
       "cell_type": "code",
       "execution_count": 4,
       "metadata": {},
       "outputs": [
        {
         "data": {
          "text/plain": [
           "('aromatic',\n",
           " [[],\n",
           "  [(0, 1), (1, 2), (4, 5), (0, 5), (2, 3), (3, 4)],\n",
           "  [(1, 2), (0, 1), (0, 4), (2, 3), (3, 4)],\n",
           "  [],\n",
           "  [],\n",
           "  []])"
          ]
         },
         "execution_count": 4,
         "metadata": {},
         "output_type": "execute_result"
        }
       ],
       "source": [
        "cluster_list[1]"
       ]
      },
      {
       "cell_type": "markdown",
       "metadata": {},
       "source": [
        "## 3. Generate SMIRKS and remove unnecessary SMIRKS decorators\n",
        "\n",
        "The goal in this step is to create a generic, hierarchical list of SMIRKS patterns which will maintain the clustering of bonds we specified above. \n",
        "\n",
        "First we will create a `SMIRKSifier` object. This takes your molecules and the list of classified bonds and automatically creates SMIRKS patterns using ALL possible decorators. As you can see this process leads to highly specific patterns which would not be practical assuming you want your clustering to be applied to molecules outside your training set. \n",
        "\n",
        "There area also two optional arguments for the `SMIRKSifier`:\n",
        "\n",
        "* `max_layers`: this is the maximum number of atoms away from the indexed atoms you want included in your automatically generated SMIRKS patterns.\n",
        "    - Internally, `SMIRKSifier` starts with 0 layers and only adds atoms if necessary\n",
        "    - the default is `max_layers = 5`\n",
        "* `verbose`: if `True` (the default) the `SMIRKSifier` prints out information while matching the automatically generated SMIRKS with the initially assigned clusters. \n",
        "\n",
        "### 3a. Create the `SMIRKSifier` printing out initial SMIRKS patterns"
       ]
      },
      {
       "cell_type": "code",
       "execution_count": 5,
       "metadata": {
        "scrolled": true
       },
       "outputs": [
        {
         "name": "stdout",
         "output_type": "stream",
         "text": [
          "\n",
          " Label                | SMIRKS \n",
          "================================================================================\n",
          " zz_sing              | [#6!rAH1X3x0,#6!rAH2X4x0,#6!rAH3X4x0,#6AH1X3r6x2,#6AH2X4r6x2,#6H1X3ar5x2,#6H1X3ar6x2,#7H1X3ar5x2,#8!rAH0X2x0;+0:1]-[#1!rH0X1x0,#6!rH1X3x0,#6!rH2X4x0,#6!rH3X4x0,#6H1X3r6x2,#6H2X4r6x2,#8!rH0X2x0;+0;A:2] \n",
          "--------------------------------------------------------------------------------\n",
          " zz_aromatic          | [#6r5,#6r6,#7r5;+0;H1;X3;a;x2:1]:;@[#6r5,#6r6,#7r5;+0;H1;X3;a;x2:2] \n",
          "--------------------------------------------------------------------------------\n",
          " zz_double            | [#6!rx0,#6r6x2;+0;A;H1;X3:1]=[#6!rH1X3x0,#6H1X3r6x2,#8!rH0X1x0;+0;A:2] \n",
          "--------------------------------------------------------------------------------\n",
          "\n"
         ]
        }
       ],
       "source": [
        "bond_smirksifier = SMIRKSifier(molecules, cluster_list)"
       ]
      },
      {
       "cell_type": "markdown",
       "metadata": {},
       "source": [
        "### 3b. Start removing decorators\n",
        "\n",
        "The `SMIRKSifier.reduce` function attempts to remove a single decorator from a randomly chosen SMIRKS pattern during each iteration, it has two argument:\n",
        "\n",
        "* `max_its`(optional, default=1000): Number of iterations to remove \n",
        "    - currently it does run for this many we are working on determining if there is a way to determine if we are done before the number of iterations is reached\n",
        "* `verbose` (optional, default=do not change the setting): This will temporarily change the `SMIRKSifier`'s verboseness, so you could make a long run more quiet. \n",
        "\n",
        "This run returns the current set of SMIRKS patterns at the end of the simulation. You can use the internal `SMIRKSifier.print_smirks` function to print these in a semi-nicely formatted way. \n"
       ]
      },
      {
       "cell_type": "code",
       "execution_count": 6,
       "metadata": {
        "scrolled": true
       },
       "outputs": [
        {
         "name": "stdout",
         "output_type": "stream",
         "text": [
          "Iteration:  0\n",
          "Attempting to change SMIRKS #2\n",
          "[#6!rx0,#6r6x2;+0;A;H1;X3:1]=[#6!rH1X3x0,#6H1X3r6x2,#8!rH0X1x0;+0;A:2]  -->  [#6x0,#6x2r6;+0;A;H1;X3:1]=[#6,#6x2r6H1X3,#8H0x0X1;+0;A:2]\n",
          "Accepted! \n",
          "------------------------------------------------------------------------------------------\n",
          "Iteration:  1\n",
          "Attempting to change SMIRKS #1\n",
          "[#6r5,#6r6,#7r5;+0;H1;X3;a;x2:1]:;@[#6r5,#6r6,#7r5;+0;H1;X3;a;x2:2]  -->  [#6r5,#6r6,#7r5;a;X3;+0;H1:1]:;@[#6r5,#6r6,#7r5;+0;H1;X3;a;x2:2]\n",
          "Accepted! \n",
          "------------------------------------------------------------------------------------------\n",
          "Iteration:  2\n",
          "Attempting to change SMIRKS #1\n",
          "[#6r5,#6r6,#7r5;a;X3;+0;H1:1]:;@[#6r5,#6r6,#7r5;+0;H1;X3;a;x2:2]  -->  [*;a;X3;+0;H1:1]:;@[#6r5,#6r6,#7r5;+0;H1;X3;a;x2:2]\n",
          "Accepted! \n",
          "------------------------------------------------------------------------------------------\n",
          "Iteration:  3\n",
          "Attempting to change SMIRKS #1\n",
          "[*;a;X3;+0;H1:1]:;@[#6r5,#6r6,#7r5;+0;H1;X3;a;x2:2]  -->  [*;a;+0;H1:1]:;@[#6r5,#6r6,#7r5;+0;H1;X3;a;x2:2]\n",
          "Accepted! \n",
          "------------------------------------------------------------------------------------------\n",
          "Iteration:  4\n",
          "Attempting to change SMIRKS #0\n",
          "[#6!rAH1X3x0,#6!rAH2X4x0,#6!rAH3X4x0,#6AH1X3r6x2,#6AH2X4r6x2,#6H1X3ar5x2,#6H1X3ar6x2,#7H1X3ar5x2,#8!rAH0X2x0;+0:1]-[#1!rH0X1x0,#6!rH1X3x0,#6!rH2X4x0,#6!rH3X4x0,#6H1X3r6x2,#6H2X4r6x2,#8!rH0X2x0;+0;A:2]  -->  [#6x0X3AH1,#6x0X4AH2,#6x0AX4H3,#6x2X3AH1r6,#6x2X4AH2r6,#6aX3x2r5H1,#6aX3r6x2H1,#7aX3x2r5H1,#8H0x0AX2;+0:1]-[#1H0x0X1,#6x0X3H1,#6x0X4H2,#6x0X4H3,#6x2X3r6H1,#6x2X4H2r6,#8H0x0X2;A:2]\n",
          "Accepted! \n",
          "------------------------------------------------------------------------------------------\n",
          "Iteration:  5\n",
          "Attempting to change SMIRKS #1\n",
          "[*;a;+0;H1:1]:;@[#6r5,#6r6,#7r5;+0;H1;X3;a;x2:2]  -->  [*;a;+0;H1:1]:;@[#6r5,#6r6,#7r5:2]\n",
          "Accepted! \n",
          "------------------------------------------------------------------------------------------\n",
          "Iteration:  6\n",
          "Attempting to change SMIRKS #1\n",
          "[*;a;+0;H1:1]:;@[#6r5,#6r6,#7r5:2]  -->  [*;a;+0;H1:1]:;@[#6r5,#6,#7r5:2]\n",
          "Accepted! \n",
          "------------------------------------------------------------------------------------------\n",
          "Iteration:  7\n",
          "Attempting to change SMIRKS #0\n",
          "[#6x0X3AH1,#6x0X4AH2,#6x0AX4H3,#6x2X3AH1r6,#6x2X4AH2r6,#6aX3x2r5H1,#6aX3r6x2H1,#7aX3x2r5H1,#8H0x0AX2;+0:1]-[#1H0x0X1,#6x0X3H1,#6x0X4H2,#6x0X4H3,#6x2X3r6H1,#6x2X4H2r6,#8H0x0X2;A:2]  -->  [#6x0AH1X3,#6x0AH2X4,#6x0AX4H3,#6x2AH1X3r6,#6x2AH2X4r6,#6aH1x2r5X3,#6aH1r6x2X3,#7aH1x2r5X3,#8H0x0AX2;+0:1]-[#1H0x0X1,#6x0X3H1,#6x0X4H2,#6x0X4H3,#6,#6x2X4H2r6,#8H0x0X2;A:2]\n",
          "Accepted! \n",
          "------------------------------------------------------------------------------------------\n",
          "Iteration:  8\n",
          "Attempting to change SMIRKS #2\n",
          "[#6x0,#6x2r6;+0;A;H1;X3:1]=[#6,#6x2r6H1X3,#8H0x0X1;+0;A:2]  -->  [#6x0,#6x2r6;+0;A;H1;X3:1]=[#6,#6x2H1X3,#8H0x0X1;+0;A:2]\n",
          "Accepted! \n",
          "------------------------------------------------------------------------------------------\n",
          "Iteration:  9\n",
          "Attempting to change SMIRKS #0\n",
          "[#6x0AH1X3,#6x0AH2X4,#6x0AX4H3,#6x2AH1X3r6,#6x2AH2X4r6,#6aH1x2r5X3,#6aH1r6x2X3,#7aH1x2r5X3,#8H0x0AX2;+0:1]-[#1H0x0X1,#6x0X3H1,#6x0X4H2,#6x0X4H3,#6,#6x2X4H2r6,#8H0x0X2;A:2]  -->  [#6x0X3AH1,#6x0X4AH2,#6x0AX4H3,#6x2X3AH1r6,#6x2X4AH2r6,#6aX3x2r5H1,#6aX3r6x2H1,#7aX3x2r5H1,#8H0x0AX2;+0:1]-[#1H0x0X1,#6x0X3H1,#6x0X4H2,#6x0X4H3,#6,#8H0x0X2;A:2]\n",
      "Accepted! \n",
      "------------------------------------------------------------------------------------------\n",
      "\n",
      " Label                | SMIRKS \n",
      "================================================================================\n",
      " zz_sing              | [#6x0X3AH1,#6x0X4AH2,#6x0AX4H3,#6x2X3AH1r6,#6x2X4AH2r6,#6aX3x2r5H1,#6aX3r6x2H1,#7aX3x2r5H1,#8H0x0AX2;+0:1]-[#1H0x0X1,#6x0X3H1,#6x0X4H2,#6x0X4H3,#6,#8H0x0X2;A:2] \n",
      "--------------------------------------------------------------------------------\n",
      " zz_aromatic          | [*;a;+0;H1:1]:;@[#6r5,#6,#7r5:2] \n",
      "--------------------------------------------------------------------------------\n",
      " zz_double            | [#6x0,#6x2r6;+0;A;H1;X3:1]=[#6,#6x2H1X3,#8H0x0X1;+0;A:2] \n",
      "--------------------------------------------------------------------------------\n",
      "\n"
     ]
    }
   ],
   "source": [
    "smirks10 = bond_smirksifier.reduce(max_its=10)"
   ]
  },
  {
   "cell_type": "code",
   "execution_count": 7,
   "metadata": {},
   "outputs": [
    {
     "name": "stdout",
     "output_type": "stream",
     "text": [
      "\n",
      " Label                | SMIRKS \n",
      "================================================================================\n",
      " zz_sing              | [#6x0X3AH1,#6x0X4AH2,#6x0AX4H3,#6x2X3AH1r6,#6x2X4AH2r6,#6aX3x2r5H1,#6aX3r6x2H1,#7aX3x2r5H1,#8H0x0AX2;+0:1]-[#1H0x0X1,#6x0X3H1,#6x0X4H2,#6x0X4H3,#6,#8H0x0X2;A:2] \n",
      "--------------------------------------------------------------------------------\n",
      " zz_aromatic          | [*;a;+0;H1:1]:;@[#6r5,#6,#7r5:2] \n",
      "--------------------------------------------------------------------------------\n",
      " zz_double            | [#6x0,#6x2r6;+0;A;H1;X3:1]=[#6,#6x2H1X3,#8H0x0X1;+0;A:2] \n",
      "--------------------------------------------------------------------------------\n",
      "\n"
     ]
    }
   ],
   "source": [
    "print_smirks(smirks10)"
   ]
  },
  {
   "cell_type": "markdown",
   "metadata": {},
   "source": [
    "### 3c. Continue removing decorators\n",
    "\n",
    "Now we will continue trying to reduce the SMIRKS. Note, in this case we set verbose to False and just print the final SMIRKS since 3,000 is a lot of steps. "
   ]
  },
  {
   "cell_type": "code",
   "execution_count": 8,
   "metadata": {},
   "outputs": [
    {
     "name": "stdout",
     "output_type": "stream",
     "text": [
      "\n",
      " Label                | SMIRKS \n",
      "================================================================================\n",
      " zz_sing              | [*:1]~[*:2] \n",
      "--------------------------------------------------------------------------------\n",
      " zz_aromatic          | [*:1]:[*:2] \n",
      "--------------------------------------------------------------------------------\n",
      " zz_double            | [*:1]=[*:2] \n",
      "--------------------------------------------------------------------------------\n",
      "\n"
     ]
    }
   ],
   "source": [
    "smirks3k = bond_smirksifier.reduce(max_its=3000, verbose=False)\n",
    "print_smirks(smirks3k)"
   ]
  },
  {
   "cell_type": "markdown",
   "metadata": {},
   "source": [
    "## 4. What have we learned for the future \n",
    "\n",
    "In this section we make note of what we learned from this example and potential improvements for `chemper` in the near future. \n",
    "\n",
    "**1. Can we automatically determine the number of necessary layers?**\n",
    "\n",
    "Currently the user has to set the number of layers, or how many bonds away from the indexed atoms should be included in the initial SMIRKS patterns. However, the point of `chemper` tools is to automatically determine the SMIRKS patters. It would be preferable to have the number of layers determined automatically based on how many are actually necessary.\n",
    "\n",
    "The answer here seems to be of course we can, you just type with 0 layers and then try systematically adding them until you get a 100% correspondence between the way molecules are typed with the automatically created SMIRKS and the way they were assigned to be clustered\n",
    "\n",
    "**2. Is there a systematic way to remove decorators that doesn't introduce too much human wizardary?**\n",
    "\n",
    "Right now the removal of decorators is stochastic, so you don't guarentee the same SMIRKS will be created for the same clustering of atoms every time. This is because it is possible to have multiple combinations of decorators that which maintain the same clustering. \n",
    "\n",
    "We could consider looking for differences in the ClusterGraphs and start by removing any decorators that are in common for all SMIRKS since those are clearly not distinguishing features. However, it seems unlikely that a systematic removal wouldn't be biased by the choices of the human who chose the order for checking the removal of the decorators. "
   ]
  },
  {
   "cell_type": "code",
   "execution_count": null,
   "metadata": {},
   "outputs": [],
   "source": []
  }
 ],
 "metadata": {
  "kernelspec": {
   "display_name": "Python 3",
   "language": "python",
   "name": "python3"
  },
  "language_info": {
   "codemirror_mode": {
    "name": "ipython",
    "version": 3
   },
   "file_extension": ".py",
   "mimetype": "text/x-python",
   "name": "python",
   "nbconvert_exporter": "python",
   "pygments_lexer": "ipython3",
   "version": "3.5.5"
  }
 },
 "nbformat": 4,
 "nbformat_minor": 2
}
