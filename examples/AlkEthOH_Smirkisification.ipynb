{
 "cells": [
  {
   "cell_type": "markdown",
   "metadata": {},
   "source": [
    "# Applying SMIRKSifier to AlkEthOH\n",
    "\n",
    "1. Type molecules with reference SMIRKS\n",
    "2. Split into training and test set, checking that all parameters are represented in each\n",
    "3. Make SMIRKS for training set\n",
    "4. Check SMIRKS on test set\n"
   ]
  },
  {
   "cell_type": "code",
   "execution_count": 14,
   "metadata": {},
   "outputs": [],
   "source": [
    "# import chemper utils and SMIRKSifier\n",
    "\n",
    "from chemper import chemper_utils as cutils\n",
    "from chemper.mol_toolkits import mol_toolkit\n",
    "from chemper.smirksify import SMIRKSifier, Reducer\n",
    "from numpy import random\n",
    "import copy"
   ]
  },
  {
   "cell_type": "code",
   "execution_count": 2,
   "metadata": {},
   "outputs": [],
   "source": [
    "def parse_smarts_file(file_path, lab=''):\n",
    "    full_file_path = cutils.get_data_path(file_path)\n",
    "    f = open(full_file_path)\n",
    "    lines = f.readlines()\n",
    "    f.close()\n",
    "    type_list = list()\n",
    "    for idx, l in enumerate(lines):\n",
    "        type_list.append(('%s%i' % (lab, idx), l.strip()))\n",
    "    return type_list"
   ]
  },
  {
   "cell_type": "code",
   "execution_count": 3,
   "metadata": {},
   "outputs": [],
   "source": [
    "def write_smarts_files(type_list, file_path):\n",
    "    f = open(file_path)\n",
    "    for lab, smirks in type_list:\n",
    "        f.write('%s %s\\n' % (smirks, lab))\n",
    "    f.close()"
   ]
  },
  {
   "cell_type": "markdown",
   "metadata": {},
   "source": [
    "## 1. Load and Type Molecules"
   ]
  },
  {
   "cell_type": "code",
   "execution_count": 4,
   "metadata": {},
   "outputs": [],
   "source": [
    "# load molecules\n",
    "training_mols = mol_toolkit.mols_from_mol2('AlkEthOH_filtered_tripos.mol2')\n",
    "test_mols = mol_toolkit.mols_from_mol2('AlkEthOH_test_set.mol2')\n"
   ]
  },
  {
   "cell_type": "code",
   "execution_count": 5,
   "metadata": {},
   "outputs": [],
   "source": [
    "smarts_files = [\n",
    "    ('angle', 'smarts_files/angle_smirks.smarts'),\n",
    "    ('bond', 'smarts_files/bond_smirks.smarts'),\n",
    "    ('proper', 'smarts_files/proper_torsion_smirks.smarts'),\n",
    "    ('nonbond', 'smarts_files/nonbond_smirks.smarts'),\n",
    "]"
   ]
  },
  {
   "cell_type": "markdown",
   "metadata": {},
   "source": [
    "## 4. Make SMIRKS for training set"
   ]
  },
  {
   "cell_type": "code",
   "execution_count": 6,
   "metadata": {},
   "outputs": [],
   "source": [
    "# when not in travis tests increase the number of interations\n",
    "its = 800 # 1000"
   ]
  },
  {
   "cell_type": "code",
   "execution_count": 17,
   "metadata": {},
   "outputs": [
    {
     "name": "stdout",
     "output_type": "stream",
     "text": [
      "1000 nonbond True False\n",
      "1000 nonbond True False\n",
      "1000 nonbond True False\n",
      "1000 nonbond True False\n",
      "1000 nonbond True False\n",
      "1000 nonbond True False\n",
      "1000 nonbond True False\n",
      "1000 nonbond True False\n",
      "1000 nonbond True False\n",
      "1000 nonbond True False\n",
      "1000 nonbond True False\n",
      "nonbond True False\n"
     ]
    }
   ],
   "source": [
    "# Get clusters for each parameter type\n",
    "training_dict = dict()\n",
    "for label, smarts_file in smarts_files:\n",
    "    type_list = parse_smarts_file(smarts_file, smarts_file[0])\n",
    "    \n",
    "    if label != 'nonbond':\n",
    "        continue\n",
    "    training_dict[label] = dict()\n",
    "    \n",
    "    train_ref = cutils.get_typed_molecules(type_list, training_mols)\n",
    "    \n",
    "    # store only SMIRKS relevant:\n",
    "    pids = {p for m, a in train_ref.items() for ai, p in a.items()}\n",
    "    type_list = [t for t in type_list if t[0] in pids]\n",
    "    \n",
    "    test_ref = cutils.get_typed_molecules(type_list, test_mols)\n",
    "    \n",
    "    clusters = cutils.create_tuples_for_clusters(type_list, training_mols)\n",
    "    \n",
    "    its = 1000\n",
    "    ifier = SMIRKSifier(training_mols, clusters, verbose=False)\n",
    "    red = Reducer(ifier.current_smirks, training_mols, verbose=False)\n",
    "    final_smirks = red.run()\n",
    "\n",
    "    train_check = cutils.check_smirks_to_reference(final_smirks, copy.deepcopy(train_ref), training_mols)\n",
    "    test_check = cutils.check_smirks_to_reference(final_smirks, copy.deepcopy(test_ref), test_mols)\n",
    "    runs = 0\n",
    "    while not test_check and runs <=10:\n",
    "        runs += 1\n",
    "        red = Reducer(ifier.current_smirks, training_mols, verbose=False)\n",
    "        final_smirks = red.run()\n",
    "        train_check = cutils.check_smirks_to_reference(final_smirks, copy.deepcopy(train_ref), training_mols)\n",
    "        test_check = cutils.check_smirks_to_reference(final_smirks, copy.deepcopy(test_ref), test_mols)\n",
    "        print(its, label, train_check, test_check)\n",
    "\n",
    "    training_dict[label]['training_check'] = train_check\n",
    "    training_dict[label]['test_check'] = test_check\n",
    "    training_dict[label]['input_smirks'] = type_list\n",
    "    training_dict[label]['output_smirks'] = final_smirks\n",
    "    training_dict[label]['training_clusters'] = clusters\n",
    "    training_dict[label]['its'] = its\n",
    "    \n",
    "    print(label, train_check, test_check)"
   ]
  },
  {
   "cell_type": "code",
   "execution_count": null,
   "metadata": {
    "scrolled": true
   },
   "outputs": [],
   "source": [
    "for (n, sm) in final_smirks:\n",
    "    print(n, sm)\n",
    "print('-'*60)\n",
    "for n, sm in type_list:\n",
    "    print(n, sm)"
   ]
  },
  {
   "cell_type": "code",
   "execution_count": null,
   "metadata": {},
   "outputs": [],
   "source": [
    "help(cutils.check_smirks_to_reference)"
   ]
  },
  {
   "cell_type": "markdown",
   "metadata": {},
   "source": [
    "## 5. Checks SMIRKS on test set"
   ]
  },
  {
   "cell_type": "code",
   "execution_count": null,
   "metadata": {},
   "outputs": [],
   "source": []
  },
  {
   "cell_type": "code",
   "execution_count": null,
   "metadata": {},
   "outputs": [],
   "source": [
    "for label, d in training_dict.items():\n"
   ]
  },
  {
   "cell_type": "code",
   "execution_count": null,
   "metadata": {},
   "outputs": [],
   "source": [
    "help(cutils.check_smirks_agree)"
   ]
  },
  {
   "cell_type": "code",
   "execution_count": null,
   "metadata": {},
   "outputs": [],
   "source": []
  }
 ],
 "metadata": {
  "kernelspec": {
   "display_name": "Python 3",
   "language": "python",
   "name": "python3"
  },
  "language_info": {
   "codemirror_mode": {
    "name": "ipython",
    "version": 3
   },
   "file_extension": ".py",
   "mimetype": "text/x-python",
   "name": "python",
   "nbconvert_exporter": "python",
   "pygments_lexer": "ipython3",
   "version": "3.5.5"
  }
 },
 "nbformat": 4,
 "nbformat_minor": 2
}
