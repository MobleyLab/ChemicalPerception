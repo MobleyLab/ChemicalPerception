{
 "cells": [
  {
   "cell_type": "markdown",
   "metadata": {},
   "source": [
    "# Converting Molecules to SMIRKS Patterns\n",
    "\n",
    "The overall goal of `chemper` is to create hierarchical SMIRKS patterns that would maintain the clustering of input molecular subgraphs. \n",
    "`SMIRKS` patterns are a language for substructure searches that use decorators on the atoms and bonds in order to specify the desired chemistry (more details on this language are available in the [Daylight Theory Manual](http://www.daylight.com/dayhtml/doc/theory/theory.smarts.html)). \n",
    "The first step in understanding how to convert molecular subgraphs into SMIRKS patterns was to extract all possible decorators on atoms and bonds from a molecule object. \n",
    "Therefore to begin we created the `ChemPerGraph` which stores all possible decorators for atoms and bonds in a graph structure which can be written out as a SMIRKS pattern. \n",
    "\n",
    "These objects were created largely as a precursor to `ClusterGraph` which allows for multiple molecules to be converted into a single graph object. \n",
    "However, it is possible some people will find them useful for their standalone functionality.\n",
    "To the best of our knowledge, there was not previously a tool to create a SMIRKS pattern from a molecule to describe a fraction or all of the atoms in its structure. \n",
    "`RDKit` has a way to write molecules as \"SMARTS\" but as far as we can tell it just writes a SMILES string with square brackets around the atoms without any additional decorators used in `SMARTS` or `SMIRKS` and does not include support for atom indexing. \n",
    "\n",
    "`ChemPerGraph`'s can be built from a molecule and dictionary of key atoms using the `ChemPerGraphFromMol` class.\n",
    "These classes depend on `chemper` molecules which are simply wrappers for common cheminformatics toolkits. \n",
    "Currently we support `RDKit` and `OpenEye` toolkits. "
   ]
  },
  {
   "cell_type": "code",
   "execution_count": 2,
   "metadata": {},
   "outputs": [],
   "source": [
    "# Install tools from chemper\n",
    "from chemper.mol_toolkits import mol_toolkit\n",
    "from chemper.graphs.fragment_graph import ChemPerGraphFromMol"
   ]
  },
  {
   "cell_type": "markdown",
   "metadata": {},
   "source": [
    "## Make the Cyclopentane Molecule\n",
    "\n",
    "In this notebook we will look at different options for `ChemPerGraphFromMol` always building from a cyclopentane molecule. \n",
    "So this notebook does not rely on a specific toolkit, we use the `mol_toolkit.MolFromSmiles` function which generates a `chemper` `Mol` using whichever toolkit is currently installed. \n",
    "However, if you have an `rdchem.Mol` or `oechem.OEMol` the same functionality can be used with a call to `mol_toolkit.Mol(m)` where `m` is a molecule from the toolkit you have installed."
   ]
  },
  {
   "cell_type": "code",
   "execution_count": 5,
   "metadata": {},
   "outputs": [
    {
     "name": "stdout",
     "output_type": "stream",
     "text": [
      "C1CCCC1\n"
     ]
    }
   ],
   "source": [
    "mol = mol_toolkit.MolFromSmiles('C1CCCC1')\n",
    "print(mol.get_smiles())"
   ]
  },
  {
   "cell_type": "markdown",
   "metadata": {},
   "source": [
    "## Only the indexed atoms\n",
    "\n",
    "In the most simple case, a `SMIRKS` pattern is created for only the indexed atoms. \n",
    "A `SMIRKS` index is used to tag specific atoms with a colon followed by a possitive integer. \n",
    "For example in `'[#6AX4:1]-!@[#1:2]'`, atom 1 (`:1`) is a carbon atom (`#6`) that is aliphatic (`A`) and has four connecting bonds (`X4`) and atom 2 (`:2`) is a hydrogen atom (`#1`). \n",
    "In that case, the two atoms are connected by a non-ring (`!@`) single bond (`-`).\n",
    "\n",
    "`ChemPerGraphFromMol` objects are initiated with a chemper molecule and a dictionary storing atom indices by desired `SMIRKS` index. \n",
    "The dictionary should have a key for the desired `SMIRKS` index and the entry is the index for the atom in the molecule being assigned that `SMIKRS` index. \n",
    "For example if you provided the dictionary:\n",
    "```\n",
    "smirks_dict = {1:0, 2:3}\n",
    "```\n",
    "the atom with index `0` in your molecule would be used to make the atom in the SMIRKS pattern with `:1`. \n",
    "Similarly atom `3` in your molecule would be used to make the `SMIRKS` atom with `:2`."
   ]
  },
  {
   "cell_type": "code",
   "execution_count": 6,
   "metadata": {},
   "outputs": [
    {
     "data": {
      "text/plain": [
       "'[#6AH2X4x2r5+0:1]-@[#6AH2X4x2r5+0:2]'"
      ]
     },
     "execution_count": 6,
     "metadata": {},
     "output_type": "execute_result"
    }
   ],
   "source": [
    "# store atom 1 in smirks index 1 and atom 4 in smirks index 2\n",
    "smirks_dict = {1:0, 2:4}\n",
    "graph = ChemPerGraphFromMol(mol, smirks_dict)\n",
    "graph.as_smirks()"
   ]
  },
  {
   "cell_type": "markdown",
   "metadata": {},
   "source": [
    "## Include Non-Indexed Atoms\n",
    "\n",
    "The `ChemPerGraphFromMol` class also has an input option `layers` which specifies how many atoms away from the indexed atoms should be included in the `SMIRKS`.\n",
    "The default `layers` value is `0` meaning only the indexed atoms are included in the `SMIRKS` pattern. \n",
    "If `layers` is greater than 0 then atoms up to that many bonds away from the indexed atoms are added to the graph. \n",
    "\n",
    "Here is an example with `layers=1` and then `layers=2`."
   ]
  },
  {
   "cell_type": "code",
   "execution_count": 7,
   "metadata": {},
   "outputs": [
    {
     "data": {
      "text/plain": [
       "'[#6AH2X4x2r5+0:1](-!@[#1AH0X1x0r0+0])(-@[#6AH2X4x2r5+0])(-!@[#1AH0X1x0r0+0])-@[#6AH2X4x2r5+0:2](-!@[#1AH0X1x0r0+0])(-@[#6AH2X4x2r5+0])-!@[#1AH0X1x0r0+0]'"
      ]
     },
     "execution_count": 7,
     "metadata": {},
     "output_type": "execute_result"
    }
   ],
   "source": [
    "graph = ChemPerGraphFromMol(mol, smirks_dict, layers=1)\n",
    "graph.as_smirks()"
   ]
  },
  {
   "cell_type": "code",
   "execution_count": 8,
   "metadata": {},
   "outputs": [
    {
     "data": {
      "text/plain": [
       "'[#6AH2X4x2r5+0:1](-!@[#1AH0X1x0r0+0])(-!@[#1AH0X1x0r0+0])(-@[#6AH2X4x2r5+0](-@[#6AH2X4x2r5+0])(-!@[#1AH0X1x0r0+0])-!@[#1AH0X1x0r0+0])-@[#6AH2X4x2r5+0:2](-!@[#1AH0X1x0r0+0])(-@[#6AH2X4x2r5+0](-!@[#1AH0X1x0r0+0])-!@[#1AH0X1x0r0+0])-!@[#1AH0X1x0r0+0]'"
      ]
     },
     "execution_count": 8,
     "metadata": {},
     "output_type": "execute_result"
    }
   ],
   "source": [
    "graph = ChemPerGraphFromMol(mol, smirks_dict, layers=2)\n",
    "graph.as_smirks()"
   ]
  },
  {
   "cell_type": "markdown",
   "metadata": {},
   "source": [
    "## Encode the whole molecule\n",
    "\n",
    "The other option for `layers` is `'all'` which will continue adding atoms until there are no more atoms in the molecule.\n",
    "These `SMIRKS` become really unreadable for humans, but do encode all information about the molecule. "
   ]
  },
  {
   "cell_type": "code",
   "execution_count": 9,
   "metadata": {},
   "outputs": [
    {
     "data": {
      "text/plain": [
       "'[#6AH2X4x2r5+0:1](-!@[#1AH0X1x0r0+0])(-@[#6AH2X4x2r5+0](-!@[#1AH0X1x0r0+0])(-!@[#1AH0X1x0r0+0])-@[#6AH2X4x2r5+0](-!@[#1AH0X1x0r0+0])(-!@[#1AH0X1x0r0+0])-@[#6AH2X4x2r5+0](-!@[#1AH0X1x0r0+0])-!@[#1AH0X1x0r0+0])(-!@[#1AH0X1x0r0+0])-@[#6AH2X4x2r5+0:2](-!@[#1AH0X1x0r0+0])-!@[#1AH0X1x0r0+0]'"
      ]
     },
     "execution_count": 9,
     "metadata": {},
     "output_type": "execute_result"
    }
   ],
   "source": [
    "graph = ChemPerGraphFromMol(mol, smirks_dict, layers='all')\n",
    "graph.as_smirks()"
   ]
  },
  {
   "cell_type": "code",
   "execution_count": null,
   "metadata": {},
   "outputs": [],
   "source": []
  }
 ],
 "metadata": {
  "kernelspec": {
   "display_name": "Python 3",
   "language": "python",
   "name": "python3"
  },
  "language_info": {
   "codemirror_mode": {
    "name": "ipython",
    "version": 3
   },
   "file_extension": ".py",
   "mimetype": "text/x-python",
   "name": "python",
   "nbconvert_exporter": "python",
   "pygments_lexer": "ipython3",
   "version": "3.5.5"
  }
 },
 "nbformat": 4,
 "nbformat_minor": 2
}
