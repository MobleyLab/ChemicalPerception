{
 "cells": [
  {
   "cell_type": "markdown",
   "metadata": {},
   "source": [
    "# Single molecule SMIRKS\n",
    "\n",
    "The `ChemPerGraph` objects are intended to create SMIRKS from molecules based on specified atoms. \n",
    "The easiest way to do this is to provide `ChemPerGraphFromMol` a molecule and dictionary of key atoms. \n",
    "\n",
    "These objects were created largely as a precursor to `ClusterGraph`. However, it is possible some people will find them useful as a standalone object. \n",
    "To the best of my knowledge, there was not previously a tool to create a SMIRKS pattern for a whole molecule. \n",
    "`RDKit` has a way to write molecules as \"SMARTS\" but as far as I can tell it just writes a SMILES string with square brackets around the atoms. \n",
    "\n",
    "Below are a variety of examples for `ChemPerGraphs` for a variety of molecules. "
   ]
  },
  {
   "cell_type": "code",
   "execution_count": 1,
   "metadata": {},
   "outputs": [],
   "source": [
    "from chemper.mol_toolkits import mol_toolkit\n",
    "from chemper.graphs.fragment_graph import ChemPerGraphFromMol"
   ]
  },
  {
   "cell_type": "markdown",
   "metadata": {},
   "source": [
    "### Simple SMIRKS\n",
    "\n",
    "The most simple SMIRKS patterns have only the indexed atoms. \n",
    "\n",
    "`ChemPerGraphFromMol` objects are initiated with a chemper molecule and a dictioanry storing atom indices by desired SMIRKS index:"
   ]
  },
  {
   "cell_type": "code",
   "execution_count": 2,
   "metadata": {},
   "outputs": [
    {
     "data": {
      "text/plain": [
       "'[#6AH2X4x2r4+0:1]-!@[#1AH0X1x0r0+0:2]'"
      ]
     },
     "execution_count": 2,
     "metadata": {},
     "output_type": "execute_result"
    }
   ],
   "source": [
    "mol = mol_toolkit.MolFromSmiles('C1CCC1')\n",
    "# store atom 1 in smirks index 1 and atom 4 in smirks index 2\n",
    "smirks_dict = {1:0, 2:4}\n",
    "graph = ChemPerGraphFromMol(mol, smirks_dict)\n",
    "graph.as_smirks()"
   ]
  },
  {
   "cell_type": "markdown",
   "metadata": {},
   "source": [
    "## Extend away from the indexed atoms\n",
    "\n",
    "You can also extend away from the indexed atoms using the optional layers argument. \n",
    "If layers is greater than 0 then atoms up to that many bonds away from the indexed atoms \n",
    "are added to the graph. \n",
    "\n",
    "Lets start with just 1 layer away"
   ]
  },
  {
   "cell_type": "code",
   "execution_count": 3,
   "metadata": {},
   "outputs": [
    {
     "data": {
      "text/plain": [
       "'[#6AH2X4x2r4+0:1](-!@[#1AH0X1x0r0+0:2])(-!@[#1AH0X1x0r0+0])(-@[#6AH2X4x2r4+0])-@[#6AH2X4x2r4+0]'"
      ]
     },
     "execution_count": 3,
     "metadata": {},
     "output_type": "execute_result"
    }
   ],
   "source": [
    "graph = ChemPerGraphFromMol(mol, smirks_dict, layers=1)\n",
    "graph.as_smirks()"
   ]
  },
  {
   "cell_type": "markdown",
   "metadata": {},
   "source": [
    "## Encode the whole molecule\n",
    "\n",
    "The other option for layers is 'all' which will continue adding atoms until there are no more atoms in the molecule.\n",
    "These SMIRKS become really unreadable for humans, but do encode all information about the molecule. "
   ]
  },
  {
   "cell_type": "code",
   "execution_count": 4,
   "metadata": {},
   "outputs": [
    {
     "data": {
      "text/plain": [
       "'[#6AH2X4x2r4+0:1](-!@[#1AH0X1x0r0+0:2])(-!@[#1AH0X1x0r0+0])-@[#6AH2X4x2r4+0](-!@[#1AH0X1x0r0+0])(-!@[#1AH0X1x0r0+0])-@[#6AH2X4x2r4+0](-!@[#1AH0X1x0r0+0])(-@[#6AH2X4x2r4+0](-!@[#1AH0X1x0r0+0])-!@[#1AH0X1x0r0+0])-!@[#1AH0X1x0r0+0]'"
      ]
     },
     "execution_count": 4,
     "metadata": {},
     "output_type": "execute_result"
    }
   ],
   "source": [
    "graph = ChemPerGraphFromMol(mol, smirks_dict, layers='all')\n",
    "graph.as_smirks()"
   ]
  },
  {
   "cell_type": "code",
   "execution_count": null,
   "metadata": {},
   "outputs": [],
   "source": []
  }
 ],
 "metadata": {
  "kernelspec": {
   "display_name": "Python 3",
   "language": "python",
   "name": "python3"
  },
  "language_info": {
   "codemirror_mode": {
    "name": "ipython",
    "version": 3
   },
   "file_extension": ".py",
   "mimetype": "text/x-python",
   "name": "python",
   "nbconvert_exporter": "python",
   "pygments_lexer": "ipython3",
   "version": "3.5.5"
  }
 },
 "nbformat": 4,
 "nbformat_minor": 2
}
