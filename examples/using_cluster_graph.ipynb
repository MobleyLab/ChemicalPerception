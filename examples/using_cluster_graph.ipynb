{
 "cells": [
  {
   "cell_type": "code",
   "execution_count": 1,
   "metadata": {},
   "outputs": [],
   "source": [
    "from chemper.mol_toolkits import mol_toolkit\n",
    "from chemper.graphs.cluster_graph import ClusterGraph\n",
    "from chemper.graphs.fragment_graph import ChemPerGraphFromMol\n",
    "from chemper.chemper_utils import create_dictionaries_for_clusters"
   ]
  },
  {
   "cell_type": "code",
   "execution_count": 2,
   "metadata": {},
   "outputs": [],
   "source": [
    "from chemper import chemper_utils\n",
    "from chemper.optimize_smirks.reducer import Reducer"
   ]
  },
  {
   "cell_type": "code",
   "execution_count": 3,
   "metadata": {},
   "outputs": [
    {
     "name": "stdout",
     "output_type": "stream",
     "text": [
      "363\n"
     ]
    }
   ],
   "source": [
    "mol2 = chemper_utils.get_data_path('molecules/MiniDrugBank_tripos.mol2')\n",
    "mols = chemper_utils.mols_fom_mol2(mol2)\n",
    "print(len(mols))"
   ]
  },
  {
   "cell_type": "markdown",
   "metadata": {},
   "source": [
    "# practice Clusters"
   ]
  },
  {
   "cell_type": "code",
   "execution_count": 4,
   "metadata": {},
   "outputs": [],
   "source": [
    "small_mols = mols[:10]\n",
    "smirks_labels = [('wild', '[*:1]~[*:2]'), ('double', '[*:1]=[*:2]'),\n",
    "                ('triple', '[*:1]#[*:2]'), ('aromatic', '[*:1]:[*:2]'),\n",
    "                ('carbon_sing', '[#6:1]-[#6:2]')]\n",
    "cluster_list = create_dictionaries_for_clusters(smirks_labels, small_mols)"
   ]
  },
  {
   "cell_type": "code",
   "execution_count": 5,
   "metadata": {},
   "outputs": [
    {
     "name": "stdout",
     "output_type": "stream",
     "text": [
      "5\n",
      "2\n",
      "10\n"
     ]
    }
   ],
   "source": [
    "print(len(cluster_list))\n",
    "print(len(cluster_list[0]))\n",
    "print(len(cluster_list[0][1][0]))"
   ]
  },
  {
   "cell_type": "code",
   "execution_count": 6,
   "metadata": {
    "scrolled": true
   },
   "outputs": [
    {
     "name": "stdout",
     "output_type": "stream",
     "text": [
      "making graph:  10\n",
      "adding first molecule\n",
      "making graph:  10\n",
      "adding first molecule\n",
      "making graph:  10\n",
      "adding first molecule\n",
      "making graph:  10\n",
      "adding first molecule\n",
      "making graph:  10\n",
      "adding first molecule\n"
     ]
    }
   ],
   "source": [
    "red = Reducer(small_mols, cluster_list, layers=0)"
   ]
  },
  {
   "cell_type": "code",
   "execution_count": 7,
   "metadata": {
    "scrolled": false
   },
   "outputs": [
    {
     "name": "stdout",
     "output_type": "stream",
     "text": [
      "Molecule  0\n",
      "Molecule  1\n",
      "Molecule  2\n",
      "Molecule  3\n",
      "Molecule  4\n",
      "Molecule  5\n",
      "Molecule  6\n",
      "Molecule  7\n",
      "Molecule  8\n",
      "Molecule  9\n",
      "Creating graph matching current types with reference types...\n",
      "\n",
      "{0: <chemper.chemper_utils.ValenceDict object at 0x11ab7bcf8>, 1: <chemper.chemper_utils.ValenceDict object at 0x11ab7be10>, 2: <chemper.chemper_utils.ValenceDict object at 0x11ab7be48>, 3: <chemper.chemper_utils.ValenceDict object at 0x11ab7be80>, 4: <chemper.chemper_utils.ValenceDict object at 0x11ab7bc50>, 5: <chemper.chemper_utils.ValenceDict object at 0x11ab7bd68>, 6: <chemper.chemper_utils.ValenceDict object at 0x11ab7bda0>, 7: <chemper.chemper_utils.ValenceDict object at 0x11ab7bc18>, 8: <chemper.chemper_utils.ValenceDict object at 0x11ab7bbe0>, 9: <chemper.chemper_utils.ValenceDict object at 0x11ab7bdd8>}\n",
      "zz_double\n",
      "zz_double\n",
      "zz_double\n",
      "zz_double\n",
      "zz_double\n",
      "zz_double\n",
      "zz_double\n",
      "zz_double\n",
      "zz_double\n",
      "zz_double\n",
      "zz_double\n",
      "zz_double\n",
      "zz_double\n",
      "zz_double\n",
      "zz_double\n",
      "zz_double\n",
      "zz_double\n",
      "zz_double\n",
      "zz_double\n",
      "Graph creation took 0.002 s\n",
      "\n",
      "Computing maximum weight match...\n",
      "\n",
      "('zz_aromatic', 'carbon_sing', {'weight': 0})\n",
      "('zz_aromatic', 'aromatic', {'weight': 0})\n",
      "('zz_aromatic', 'triple', {'weight': 0})\n",
      "('zz_aromatic', 'double', {'weight': 0})\n",
      "('zz_aromatic', 'wild', {'weight': 0})\n",
      "('zz_double', 'carbon_sing', {'weight': 0})\n",
      "('zz_double', 'aromatic', {'weight': 0})\n",
      "('zz_double', 'triple', {'weight': 0})\n",
      "('zz_double', 'double', {'weight': 19})\n",
      "('zz_double', 'wild', {'weight': 0})\n",
      "('triple', 'zz_carbon_sing', {'weight': 0})\n",
      "('triple', 'zz_wild', {'weight': 0})\n",
      "('triple', 'zz_triple', {'weight': 0})\n",
      "('double', 'zz_carbon_sing', {'weight': 0})\n",
      "('double', 'zz_wild', {'weight': 0})\n",
      "('double', 'zz_triple', {'weight': 0})\n",
      "('zz_triple', 'carbon_sing', {'weight': 0})\n",
      "('zz_triple', 'aromatic', {'weight': 0})\n",
      "('zz_triple', 'wild', {'weight': 0})\n",
      "('carbon_sing', 'zz_carbon_sing', {'weight': 0})\n",
      "('carbon_sing', 'zz_wild', {'weight': 0})\n",
      "('zz_carbon_sing', 'aromatic', {'weight': 0})\n",
      "('zz_carbon_sing', 'wild', {'weight': 0})\n",
      "('aromatic', 'zz_wild', {'weight': 0})\n",
      "('zz_wild', 'wild', {'weight': 0})\n",
      "matching:  {('zz_double', 'double')}\n",
      "Maximum weight match took 0.002 s\n",
      "\n"
     ]
    },
    {
     "data": {
      "text/plain": [
       "([('zz_double', 'double', 19)], 19)"
      ]
     },
     "execution_count": 7,
     "metadata": {},
     "output_type": "execute_result"
    }
   ],
   "source": [
    "red.best_match_reference()"
   ]
  },
  {
   "cell_type": "code",
   "execution_count": null,
   "metadata": {
    "scrolled": true
   },
   "outputs": [],
   "source": [
    "help(Reducer)"
   ]
  },
  {
   "cell_type": "code",
   "execution_count": null,
   "metadata": {},
   "outputs": [],
   "source": [
    "import networkx as nx\n",
    "g = nx.Graph()\n",
    "g.add_node(1)\n",
    "g.add_node(2)\n",
    "g.add_edge(1,2, weight=0)\n",
    "for e in g.edges(data=True):\n",
    "    print(e)"
   ]
  },
  {
   "cell_type": "code",
   "execution_count": null,
   "metadata": {},
   "outputs": [],
   "source": [
    "from chemper.chemper_utils import ValenceDict, ImproperDict\n",
    "\n",
    "def get_smirks_matches(mol, smirks):\n",
    "    \"\"\"\n",
    "    Gets atom indices for a smirks string in a given molecule\n",
    "\n",
    "    Parameters\n",
    "    ----------\n",
    "    mol : a chemper Mol\n",
    "    smirks : str\n",
    "             SMIRKS pattern being matched to the molecule\n",
    "\n",
    "    Returns\n",
    "    --------\n",
    "    matches: list of tuples\n",
    "        atom indices for labeled atom in the smirks\n",
    "    \"\"\"\n",
    "    from chemper.optimize_smirks.environment import ChemicalEnvironment\n",
    "\n",
    "    env = ChemicalEnvironment(smirks)\n",
    "    if env.getType().lower() == 'impropertorsion':\n",
    "        matches = ImproperDict()\n",
    "    else:\n",
    "        matches = ValenceDict()\n",
    "            \n",
    "    for match in mol.smirks_search(smirks):\n",
    "        smirks_indices = sorted(list(match.keys()))\n",
    "        atom_indices = tuple([match[s].get_index() for s in smirks_indices])\n",
    "        print(atom_indices)\n",
    "        matches[atom_indices] = ''\n",
    "\n",
    "    return list(matches.keys())\n",
    "\n",
    "def get_typed_molecules(smirks_list, molecules):\n",
    "    \"\"\"\n",
    "    Creates a dictionary assigning a typename\n",
    "    for each set of atom indices in each molecule\n",
    "\n",
    "    Parameters\n",
    "    ----------\n",
    "    smirks_list: list of tuples in the form (label, smirks)\n",
    "    molecules: list of chemper Mols\n",
    "\n",
    "    Returns\n",
    "    -------\n",
    "    typeDict: embedded dictionary\n",
    "        keys: SMILES string for each molecule\n",
    "            keys: tuple of indices assigned a parameter type\n",
    "    \"\"\"\n",
    "    type_dict = dict()\n",
    "    for mol_idx, mol in enumerate(molecules):\n",
    "        type_dict[mol_idx] = {}\n",
    "        for [label, smirks] in smirks_list:\n",
    "            matches = get_smirks_matches(mol, smirks)\n",
    "            for match in matches:\n",
    "                type_dict[mol_idx][match] = label\n",
    "\n",
    "    return type_dict"
   ]
  },
  {
   "cell_type": "code",
   "execution_count": null,
   "metadata": {
    "scrolled": true
   },
   "outputs": [],
   "source": [
    "get_typed_molecules(red.current_smirks, red.molecules)"
   ]
  },
  {
   "cell_type": "code",
   "execution_count": null,
   "metadata": {},
   "outputs": [],
   "source": [
    "print(red.current_smirks[0][1])\n",
    "get_smirks_matches(red.molecules[0], red.current_smirks[0][1])"
   ]
  },
  {
   "cell_type": "code",
   "execution_count": null,
   "metadata": {},
   "outputs": [],
   "source": [
    "red.best_match_reference()"
   ]
  },
  {
   "cell_type": "code",
   "execution_count": null,
   "metadata": {
    "scrolled": true
   },
   "outputs": [],
   "source": [
    "help(Reducer)"
   ]
  },
  {
   "cell_type": "code",
   "execution_count": null,
   "metadata": {},
   "outputs": [],
   "source": []
  }
 ],
 "metadata": {
  "kernelspec": {
   "display_name": "Python 3",
   "language": "python",
   "name": "python3"
  },
  "language_info": {
   "codemirror_mode": {
    "name": "ipython",
    "version": 3
   },
   "file_extension": ".py",
   "mimetype": "text/x-python",
   "name": "python",
   "nbconvert_exporter": "python",
   "pygments_lexer": "ipython3",
   "version": "3.5.5"
  }
 },
 "nbformat": 4,
 "nbformat_minor": 2
}
