{
 "cells": [
  {
   "cell_type": "markdown",
   "metadata": {},
   "source": [
    "# Make SMIRKS from clustered fragments\n",
    "\n",
    "This notebook will showcase how `ChemPer`'s `ClusterGraph` creates SMIRKS patterns from a group of user specified molecular fragments.  \n",
    "For example, imagine we wanted to create a SMIRKS pattern for an angle type that appears in many molecules. \n",
    "`ClusterGraph` collects the SMIRKS decorators from every molecule and stores them in a highlyspecific SMIRKS pattern. \n",
    "\n",
    "The ultimate goal for chemper is to create a hierarchical list of SMIRKS patterns that retains fragment clustering. \n",
    "We could use this tool to generate SMIRKS patterns for the SMIRNOFF force field format allowing use to create data driven, direct chemical percpeption. \n",
    "\n",
    "For example, if your initial clusters had 4 types of carbon-carbon bonds (single, aromatic, double, and triple), you would expect the final SMIRKS patterns to reflect those four categories. \n",
    "\n",
    "The first step here is to store possible decorators for atoms and bonds in a given cluster. In this notebook we will use example SMIRKS patterns as a way of identifying groups of molecular fragments. Then we will use `ClusterGraph` to create highly specific SMIRKS for these same fragments. "
   ]
  },
  {
   "cell_type": "code",
   "execution_count": 1,
   "metadata": {},
   "outputs": [],
   "source": [
    "# import statements\n",
    "from chemper.mol_toolkits import mol_toolkit\n",
    "from chemper.graphs.cluster_graph import ClusterGraph\n",
    "from chemper.chemper_utils import create_tuples_for_clusters"
   ]
  },
  {
   "cell_type": "markdown",
   "metadata": {},
   "source": [
    "### create_tuples_for_clusters\n",
    "\n",
    "This is a utility function inside ChemPer which extracts atom indices which match a specific SMIRKS pattern. \n",
    "\n",
    "Help on function create_tuples_for_clusters in module chemper.chemper_utils:\n",
    "For example, lets assume you wanted to find all of the\n",
    "atoms that match this SMIRKS list\n",
    "* \"any\", `'[*:1]~[*:2]'`\n",
    "* \"single\", `'[*:1]-[*:2]'`\n",
    "    \n",
    "In this case, the \"any\" bond would match all bonds, but then\n",
    "the \"single\" would match all single bonds.\n",
    "If you were typing Ethene (C=C) then you expect the double bond\n",
    "between carbon atoms 0 and 1 to match \"any\" bond and all C-H bonds to match \"single\".\n",
    "    \n",
    "The output in this case would be:\n",
    "```python\n",
    "[ ('any', [[ (0, 1) ]] ),\n",
    "  ('single', [[ (0, 2), (0, 3), (1,4), (1,5) ]] )\n",
    "]\n",
    "```"
   ]
  },
  {
   "cell_type": "markdown",
   "metadata": {},
   "source": [
    "## Clustering from other SMIRKS\n",
    "\n",
    "This example attempts to show how `ClusterGraph` creates a SMIRKS for already clustered sub-graphs.\n",
    "\n",
    "Here, we will consider two types of angles around tetrahedral carbon atoms. \n",
    "In this hierarchical list `c1` would match ANY angle around a tetrahedral carbon (indicated with the connectivity `X4` on atom `:2`). \n",
    "Then `c2` would match angles where both outer atoms are hydrogens, just H-C-H angles, meaning those angles would be assigned `c2` and NOT `c1`. \n",
    "\n",
    "We will use the utility function `create_tuples_for_clusters` (described above) to identify atoms in each example moleucle that match each of these angle types."
   ]
  },
  {
   "cell_type": "code",
   "execution_count": 2,
   "metadata": {
    "scrolled": true
   },
   "outputs": [
    {
     "name": "stdout",
     "output_type": "stream",
     "text": [
      "c1 \t [*:1]~[#6X4:2]-[*:3]\n",
      "c2 \t [#1:1]-[#6X4:2]-[#1:3]\n"
     ]
    }
   ],
   "source": [
    "smirks_list = [\n",
    "    (\"c1\", \"[*:1]~[#6X4:2]-[*:3]\"),\n",
    "    (\"c2\", \"[#1:1]-[#6X4:2]-[#1:3]\"),\n",
    "]\n",
    "for label, smirks in smirks_list:\n",
    "    print(label,'\\t',smirks)"
   ]
  },
  {
   "cell_type": "markdown",
   "metadata": {},
   "source": [
    "## Start with a single molecule\n",
    "\n",
    "For the first example, we will start with just one molecule (ethane) and extract the clusters of atoms matching each angle type. \n",
    "\n",
    "Ethane has a total of 12 sets of angles, all of which can be categorized by the two SMIRKS patterns `c1` or `c2` \n",
    "* 6 with the form H-C-C - type c1\n",
    "* 6 with the form H-C-H - type c2\n",
    "\n",
    "First we need to extract the atoms for each of these categories. We use tuples of atom indices to represent these two clusters which are identified using the `create_tuple_for_cluster` utilities function. "
   ]
  },
  {
   "cell_type": "code",
   "execution_count": 3,
   "metadata": {},
   "outputs": [
    {
     "name": "stdout",
     "output_type": "stream",
     "text": [
      "c1\n",
      "\tmolecule  0\n",
      "\t\t (1, 0, 3)\n",
      "\t\t (0, 1, 7)\n",
      "\t\t (0, 1, 6)\n",
      "\t\t (1, 0, 4)\n",
      "\t\t (1, 0, 2)\n",
      "\t\t (0, 1, 5)\n",
      "c2\n",
      "\tmolecule  0\n",
      "\t\t (5, 1, 7)\n",
      "\t\t (5, 1, 6)\n",
      "\t\t (6, 1, 7)\n",
      "\t\t (3, 0, 4)\n",
      "\t\t (2, 0, 4)\n",
      "\t\t (2, 0, 3)\n"
     ]
    }
   ],
   "source": [
    "mol = mol_toolkit.MolFromSmiles('CC')\n",
    "atom_index_list = create_tuples_for_clusters(smirks_list, [mol])\n",
    "for label, mol_list in atom_index_list:\n",
    "    print(label)\n",
    "    for mol_idx, atom_list in enumerate(mol_list):\n",
    "        print('\\tmolecule ', mol_idx)\n",
    "        for atoms in atom_list:\n",
    "            print('\\t\\t', atoms)"
   ]
  },
  {
   "cell_type": "markdown",
   "metadata": {},
   "source": [
    "Next, we will look at the `ClusterGraph` for the set of atoms matching the angle type `c1` (`[*:1]~[#6X4:2]-[*:3]`). `ClusterGraph` works by only storing the unique combination of atom decorators. That means that even though we are using six sets of atoms there is only one set of decorators for each atom in the SMIRKS patterns"
   ]
  },
  {
   "cell_type": "code",
   "execution_count": 6,
   "metadata": {},
   "outputs": [
    {
     "name": "stdout",
     "output_type": "stream",
     "text": [
      "[#6AH3X4x0!r+0:1]-;!@[#6AH3X4x0!r+0:2]-;!@[#1AH0X1x0!r+0:3]\n"
     ]
    }
   ],
   "source": [
    "c1_atoms = atom_index_list[0][1]\n",
    "graph = ClusterGraph([mol], c1_atoms)\n",
    "print(graph.as_smirks())"
   ]
  },
  {
   "cell_type": "markdown",
   "metadata": {},
   "source": [
    "### Adding Layers\n",
    "\n",
    "Similar to the `ChemPerGraph`s described in the `single_mol_smirks` example. We can add atoms outside those indexed in `ClusterGraph`. This is done with the key word `layers`. The specified number of layers corresponds to the number of bonds away from an indexed atom should be included in the SMIRKS. As with `ChemPerGraph`s, you can also use the keyword `\"all\"` to include all atoms in a molecule in the SMIRKS pattern. For ethane, this would result in the same SMIRKS as specifying 1 layer:"
   ]
  },
  {
   "cell_type": "code",
   "execution_count": 7,
   "metadata": {},
   "outputs": [
    {
     "name": "stdout",
     "output_type": "stream",
     "text": [
      "layers = 0\n",
      "[#6AH3X4x0!r+0:1](-;!@[#1AH0X1x0!r+0])(-;!@[#1AH0X1x0!r+0])(-;!@[#1AH0X1x0!r+0])-;!@[#6AH3X4x0!r+0:2](-;!@[#1AH0X1x0!r+0])(-;!@[#1AH0X1x0!r+0])-;!@[#1AH0X1x0!r+0:3]\n",
      "--------------------------------------------------------------------------------\n",
      "layers='all'\n",
      "[#6AH3X4x0!r+0:1](-;!@[#1AH0X1x0!r+0])(-;!@[#1AH0X1x0!r+0])(-;!@[#1AH0X1x0!r+0])-;!@[#6AH3X4x0!r+0:2](-;!@[#1AH0X1x0!r+0])(-;!@[#1AH0X1x0!r+0])-;!@[#1AH0X1x0!r+0:3]\n"
     ]
    }
   ],
   "source": [
    "print(\"layers = 0\")\n",
    "graph = ClusterGraph([mol], c1_atoms, layers=1)\n",
    "print(graph.as_smirks())\n",
    "print('-'*80)\n",
    "print(\"layers='all'\")\n",
    "graph = ClusterGraph([mol], c1_atoms, layers='all')\n",
    "print(graph.as_smirks())"
   ]
  },
  {
   "cell_type": "markdown",
   "metadata": {},
   "source": [
    "## Multiple molecules\n",
    "\n",
    "Now that you have the general idea, lets consider a more complex case,\n",
    "Lets create a `ClusterGraph` for both labels in the `smirks_list` from above for the hydrocarbons listed below. \n",
    "\n",
    "First we need to create the molecules and use `create_tuple_for_cluster` to find group the angles by category."
   ]
  },
  {
   "cell_type": "code",
   "execution_count": 8,
   "metadata": {
    "scrolled": true
   },
   "outputs": [
    {
     "name": "stdout",
     "output_type": "stream",
     "text": [
      "c1\n",
      "\tmolecule  0\n",
      "\t\t (1, 0, 3)\n",
      "\t\t (0, 1, 7)\n",
      "\t\t (0, 1, 6)\n",
      "\t\t (1, 0, 4)\n",
      "\t\t (1, 0, 2)\n",
      "\t\t (0, 1, 5)\n",
      "\tmolecule  1\n",
      "\t\t (1, 0, 3)\n",
      "\t\t (1, 2, 8)\n",
      "\t\t (1, 0, 5)\n",
      "\t\t (1, 0, 4)\n",
      "\t\t (2, 1, 7)\n",
      "\t\t (0, 1, 2)\n",
      "\t\t (1, 2, 9)\n",
      "\t\t (0, 1, 7)\n",
      "\t\t (1, 2, 10)\n",
      "\t\t (0, 1, 6)\n",
      "\t\t (2, 1, 6)\n",
      "\tmolecule  2\n",
      "\t\t (2, 0, 4)\n",
      "\t\t (1, 2, 8)\n",
      "\t\t (2, 0, 3)\n",
      "\t\t (1, 0, 3)\n",
      "\t\t (0, 2, 8)\n",
      "\t\t (1, 2, 7)\n",
      "\t\t (1, 0, 2)\n",
      "\t\t (2, 1, 5)\n",
      "\t\t (0, 2, 7)\n",
      "\t\t (0, 1, 2)\n",
      "\t\t (0, 1, 6)\n",
      "\t\t (0, 2, 1)\n",
      "\t\t (2, 1, 6)\n",
      "\t\t (0, 1, 5)\n",
      "\t\t (1, 0, 4)\n",
      "\tmolecule  3\n",
      "\t\t (2, 1, 7)\n",
      "\t\t (0, 1, 8)\n",
      "\t\t (0, 1, 7)\n",
      "\t\t (0, 1, 2)\n",
      "\t\t (1, 2, 9)\n",
      "\t\t (2, 3, 12)\n",
      "\t\t (1, 2, 3)\n",
      "\t\t (1, 2, 10)\n",
      "\t\t (1, 0, 6)\n",
      "\t\t (1, 0, 4)\n",
      "\t\t (3, 2, 10)\n",
      "\t\t (1, 0, 5)\n",
      "\t\t (2, 1, 8)\n",
      "\t\t (2, 3, 11)\n",
      "\t\t (2, 3, 13)\n",
      "\t\t (3, 2, 9)\n",
      "\tmolecule  4\n",
      "\t\t (2, 1, 7)\n",
      "\t\t (1, 2, 8)\n",
      "\t\t (0, 1, 7)\n",
      "\t\t (0, 1, 2)\n",
      "\t\t (1, 2, 9)\n",
      "\t\t (0, 1, 3)\n",
      "\t\t (1, 2, 10)\n",
      "\t\t (1, 0, 6)\n",
      "\t\t (3, 1, 7)\n",
      "\t\t (2, 1, 3)\n",
      "\t\t (1, 0, 4)\n",
      "\t\t (1, 3, 13)\n",
      "\t\t (1, 0, 5)\n",
      "\t\t (1, 3, 12)\n",
      "\t\t (1, 3, 11)\n",
      "\tmolecule  5\n",
      "\t\t (1, 0, 3)\n",
      "\t\t (1, 2, 8)\n",
      "\t\t (0, 1, 7)\n",
      "\t\t (2, 1, 7)\n",
      "\t\t (0, 1, 2)\n",
      "\t\t (1, 2, 9)\n",
      "\t\t (3, 0, 4)\n",
      "\t\t (1, 2, 3)\n",
      "\t\t (3, 0, 5)\n",
      "\t\t (1, 0, 4)\n",
      "\t\t (2, 1, 6)\n",
      "\t\t (0, 1, 6)\n",
      "\t\t (1, 0, 5)\n",
      "\t\t (2, 3, 10)\n",
      "\t\t (2, 3, 11)\n",
      "\t\t (0, 3, 11)\n",
      "\t\t (3, 2, 8)\n",
      "\t\t (0, 3, 2)\n",
      "\t\t (0, 3, 10)\n",
      "\t\t (3, 2, 9)\n",
      "\tmolecule  6\n",
      "\t\t (0, 1, 8)\n",
      "\t\t (0, 1, 2)\n",
      "\t\t (0, 1, 9)\n",
      "\t\t (2, 3, 12)\n",
      "\t\t (1, 2, 3)\n",
      "\t\t (1, 2, 10)\n",
      "\t\t (4, 3, 13)\n",
      "\t\t (1, 0, 6)\n",
      "\t\t (1, 2, 11)\n",
      "\t\t (1, 0, 7)\n",
      "\t\t (3, 4, 16)\n",
      "\t\t (3, 2, 10)\n",
      "\t\t (1, 0, 5)\n",
      "\t\t (2, 1, 8)\n",
      "\t\t (3, 2, 11)\n",
      "\t\t (2, 1, 9)\n",
      "\t\t (2, 3, 13)\n",
      "\t\t (3, 4, 14)\n",
      "\t\t (2, 3, 4)\n",
      "\t\t (4, 3, 12)\n",
      "\t\t (3, 4, 15)\n",
      "c2\n",
      "\tmolecule  0\n",
      "\t\t (5, 1, 7)\n",
      "\t\t (5, 1, 6)\n",
      "\t\t (6, 1, 7)\n",
      "\t\t (3, 0, 4)\n",
      "\t\t (2, 0, 4)\n",
      "\t\t (2, 0, 3)\n",
      "\tmolecule  1\n",
      "\t\t (8, 2, 9)\n",
      "\t\t (6, 1, 7)\n",
      "\t\t (3, 0, 4)\n",
      "\t\t (3, 0, 5)\n",
      "\t\t (9, 2, 10)\n",
      "\t\t (4, 0, 5)\n",
      "\t\t (8, 2, 10)\n",
      "\tmolecule  2\n",
      "\t\t (5, 1, 6)\n",
      "\t\t (3, 0, 4)\n",
      "\t\t (7, 2, 8)\n",
      "\tmolecule  3\n",
      "\t\t (11, 3, 13)\n",
      "\t\t (11, 3, 12)\n",
      "\t\t (9, 2, 10)\n",
      "\t\t (7, 1, 8)\n",
      "\t\t (5, 0, 6)\n",
      "\t\t (4, 0, 6)\n",
      "\t\t (12, 3, 13)\n",
      "\t\t (4, 0, 5)\n",
      "\tmolecule  4\n",
      "\t\t (11, 3, 13)\n",
      "\t\t (11, 3, 12)\n",
      "\t\t (9, 2, 10)\n",
      "\t\t (12, 3, 13)\n",
      "\t\t (8, 2, 9)\n",
      "\t\t (5, 0, 6)\n",
      "\t\t (4, 0, 6)\n",
      "\t\t (4, 0, 5)\n",
      "\t\t (8, 2, 10)\n",
      "\tmolecule  5\n",
      "\t\t (6, 1, 7)\n",
      "\t\t (8, 2, 9)\n",
      "\t\t (10, 3, 11)\n",
      "\t\t (4, 0, 5)\n",
      "\tmolecule  6\n",
      "\t\t (8, 1, 9)\n",
      "\t\t (12, 3, 13)\n",
      "\t\t (14, 4, 15)\n",
      "\t\t (5, 0, 6)\n",
      "\t\t (15, 4, 16)\n",
      "\t\t (6, 0, 7)\n",
      "\t\t (14, 4, 16)\n",
      "\t\t (5, 0, 7)\n",
      "\t\t (10, 2, 11)\n"
     ]
    }
   ],
   "source": [
    "smiles = ['CC', 'CCC', 'C1CC1', 'CCCC', 'CC(C)C', 'C1CCC1', 'CCCCC']\n",
    "mols = [mol_toolkit.MolFromSmiles(s) for s in smiles]\n",
    "atom_index_list = create_tuples_for_clusters(smirks_list, mols)\n",
    "for label, mol_list in atom_index_list:\n",
    "    print(label)\n",
    "    for mol_idx, atom_list in enumerate(mol_list):\n",
    "        print('\\tmolecule ', mol_idx)\n",
    "        for atoms in atom_list:\n",
    "            print('\\t\\t', atoms)"
   ]
  },
  {
   "cell_type": "markdown",
   "metadata": {},
   "source": [
    "Now lets make a `ClusterGraph` object for both `c1` and `c2`.\n",
    "In these patterns you will see lists of decorators on each atom. In the SMIRKS lanage `','` stands for 'OR'. So in the case of `\"[#6AH1X4x0!r+0,#6AH2X4x0!r+0:1]\"` both decorator sets (`\"#6AH1X4x0!r+0\"` or `\"#6AH2X4x0!r+0\"`) could match up with atom `:1`"
   ]
  },
  {
   "cell_type": "code",
   "execution_count": 9,
   "metadata": {
    "scrolled": false
   },
   "outputs": [
    {
     "name": "stdout",
     "output_type": "stream",
     "text": [
      "c1\n",
      "--------------------------------------------------\n",
      "[#6AH1X4x0!r+0,#6AH2X4x0!r+0,#6AH2X4x2r3+0,#6AH2X4x2r4+0,#6AH3X4x0!r+0:1]-[#6AH1X4x0!r+0,#6AH2X4x0!r+0,#6AH2X4x2r3+0,#6AH2X4x2r4+0,#6AH3X4x0!r+0:2]-[#1AH0X1x0!r+0,#6AH2X4x0!r+0,#6AH2X4x2r3+0,#6AH2X4x2r4+0,#6AH3X4x0!r+0:3]\n",
      "\n",
      "c2\n",
      "--------------------------------------------------\n",
      "[#1AH0X1x0!r+0:1]-;!@[#6AH2X4x0!r+0,#6AH2X4x2r3+0,#6AH2X4x2r4+0,#6AH3X4x0!r+0:2]-;!@[#1AH0X1x0!r+0:3]\n"
     ]
    }
   ],
   "source": [
    "c1_graph = ClusterGraph(mols, atom_index_list[0][1])\n",
    "print('c1\\n'+'-'*50)\n",
    "print(c1_graph.as_smirks())\n",
    "c2_graph = ClusterGraph(mols, atom_index_list[1][1])\n",
    "print()\n",
    "print('c2\\n'+'-'*50)\n",
    "print(c2_graph.as_smirks())"
   ]
  },
  {
   "cell_type": "markdown",
   "metadata": {},
   "source": [
    "### Identifying common decorators\n",
    "\n",
    "\n",
    "You might notice that some SMIRKS decorators in each atom list are very similar. For example, all of our atoms are neutral so they all have the decorator `\"+0\"` to indicate a formal charge of zero.  \n",
    "\n",
    "We can take advantage of these commonalities and group decorators together using the SMIRKS `\";\"` symbol for ANDing decorators. For example, in `\"[#6,#7;+0:1]\"` the atom is either carbon (`#6`) or (`,`) nitrogen (`#7`) and (`;`) it has a zero formal charge (`+0`).\n",
    "\n",
    "In the `ChemPer` graph language you can group like decorators using the keyword `compress`. In that case we get these SMIRKS patterns for `c1` and `c2` instead:"
   ]
  },
  {
   "cell_type": "code",
   "execution_count": 10,
   "metadata": {
    "scrolled": true
   },
   "outputs": [
    {
     "name": "stdout",
     "output_type": "stream",
     "text": [
      "c1\n",
      "--------------------------------------------------\n",
      "[*!rH1x0,*!rH2x0,*!rH3x0,*H2r3x2,*H2r4x2;#6;+0;A;X4:1]-[*!rH1x0,*!rH2x0,*!rH3x0,*H2r3x2,*H2r4x2;#6;+0;A;X4:2]-[#1!rH0X1x0,#6!rH2X4x0,#6!rH3X4x0,#6H2X4r3x2,#6H2X4r4x2;+0;A:3]\n",
      "\n",
      "c2\n",
      "--------------------------------------------------\n",
      "[#1AH0X1x0!r+0:1]-;!@[*!rH2x0,*!rH3x0,*H2r3x2,*H2r4x2;#6;+0;A;X4:2]-;!@[#1AH0X1x0!r+0:3]\n"
     ]
    }
   ],
   "source": [
    "print('c1\\n'+'-'*50)\n",
    "print(c1_graph.as_smirks(compress=True))\n",
    "print()\n",
    "print('c2\\n'+'-'*50)\n",
    "print(c2_graph.as_smirks(compress=True))"
   ]
  },
  {
   "cell_type": "markdown",
   "metadata": {},
   "source": [
    "### Adding layers\n",
    "\n",
    "As shown above we could also add `layers` to the `ClusterGraph`s with multiple molecules."
   ]
  },
  {
   "cell_type": "code",
   "execution_count": 11,
   "metadata": {
    "scrolled": true
   },
   "outputs": [
    {
     "name": "stdout",
     "output_type": "stream",
     "text": [
      "layers =  1\n",
      "c1\n",
      "--------------------------------------------------\n",
      "[#6AH1X4x0!r+0,#6AH2X4x0!r+0,#6AH2X4x2r3+0,#6AH2X4x2r4+0,#6AH3X4x0!r+0:1](-[#1AH0X1x0!r+0,#6AH2X4x0!r+0,#6AH2X4x2r3+0,#6AH2X4x2r4+0,#6AH3X4x0!r+0])(-;!@[#1AH0X1x0!r+0,#6AH3X4x0!r+0])(-;!@[#1AH0X1x0!r+0])-[#6AH1X4x0!r+0,#6AH2X4x0!r+0,#6AH2X4x2r3+0,#6AH2X4x2r4+0,#6AH3X4x0!r+0:2](-[#1AH0X1x0!r+0,#6AH2X4x0!r+0,#6AH2X4x2r4+0,#6AH3X4x0!r+0])(-;!@[#1AH0X1x0!r+0,#6AH3X4x0!r+0])-[#1AH0X1x0!r+0,#6AH2X4x0!r+0,#6AH2X4x2r3+0,#6AH2X4x2r4+0,#6AH3X4x0!r+0:3](-;!@[#1AH0X1x0!r+0,#6AH2X4x0!r+0,#6AH3X4x0!r+0])(-;!@[#1AH0X1x0!r+0])-;!@[#1AH0X1x0!r+0]\n",
      "\n",
      "c2\n",
      "--------------------------------------------------\n",
      "[#1AH0X1x0!r+0:1]-;!@[#6AH2X4x0!r+0,#6AH2X4x2r3+0,#6AH2X4x2r4+0,#6AH3X4x0!r+0:2](-[#1AH0X1x0!r+0,#6AH2X4x0!r+0,#6AH2X4x2r3+0,#6AH2X4x2r4+0,#6AH3X4x0!r+0])(-[#6AH1X4x0!r+0,#6AH2X4x0!r+0,#6AH2X4x2r3+0,#6AH2X4x2r4+0,#6AH3X4x0!r+0])-;!@[#1AH0X1x0!r+0:3]\n",
      "\n",
      " ================================================================================ \n",
      "\n",
      "layers =  2\n",
      "c1\n",
      "--------------------------------------------------\n",
      "[#6AH1X4x0!r+0,#6AH2X4x0!r+0,#6AH2X4x2r3+0,#6AH2X4x2r4+0,#6AH3X4x0!r+0:1](-[#1AH0X1x0!r+0,#6AH2X4x0!r+0,#6AH2X4x2r3+0,#6AH2X4x2r4+0,#6AH3X4x0!r+0](-[#1AH0X1x0!r+0,#6AH2X4x0!r+0,#6AH2X4x2r4+0,#6AH3X4x0!r+0])(-;!@[#1AH0X1x0!r+0])-;!@[#1AH0X1x0!r+0])(-;!@[#1AH0X1x0!r+0,#6AH3X4x0!r+0](-;!@[#1AH0X1x0!r+0])(-;!@[#1AH0X1x0!r+0])-;!@[#1AH0X1x0!r+0])(-;!@[#1AH0X1x0!r+0])-[#6AH1X4x0!r+0,#6AH2X4x0!r+0,#6AH2X4x2r3+0,#6AH2X4x2r4+0,#6AH3X4x0!r+0:2](-;!@[#1AH0X1x0!r+0,#6AH2X4x0!r+0,#6AH3X4x0!r+0](-;!@[#1AH0X1x0!r+0,#6AH2X4x0!r+0,#6AH3X4x0!r+0])(-;!@[#1AH0X1x0!r+0])-;!@[#1AH0X1x0!r+0])(-;!@[#1AH0X1x0!r+0,#6AH3X4x0!r+0](-;!@[#1AH0X1x0!r+0])(-;!@[#1AH0X1x0!r+0])-;!@[#1AH0X1x0!r+0])-[#1AH0X1x0!r+0,#6AH2X4x0!r+0,#6AH2X4x2r3+0,#6AH2X4x2r4+0,#6AH3X4x0!r+0:3](-;!@[#1AH0X1x0!r+0,#6AH2X4x0!r+0,#6AH3X4x0!r+0](-;!@[#1AH0X1x0!r+0,#6AH3X4x0!r+0])(-;!@[#1AH0X1x0!r+0])-;!@[#1AH0X1x0!r+0])(-;!@[#1AH0X1x0!r+0])-;!@[#1AH0X1x0!r+0]\n",
      "\n",
      "c2\n",
      "--------------------------------------------------\n",
      "[#1AH0X1x0!r+0:1]-;!@[#6AH2X4x0!r+0,#6AH2X4x2r3+0,#6AH2X4x2r4+0,#6AH3X4x0!r+0:2](-[#1AH0X1x0!r+0,#6AH2X4x0!r+0,#6AH2X4x2r3+0,#6AH2X4x2r4+0,#6AH3X4x0!r+0](-[#1AH0X1x0!r+0,#6AH2X4x2r4+0,#6AH3X4x0!r+0])(-;!@[#1AH0X1x0!r+0])-;!@[#1AH0X1x0!r+0])(-[#6AH1X4x0!r+0,#6AH2X4x0!r+0,#6AH2X4x2r3+0,#6AH2X4x2r4+0,#6AH3X4x0!r+0](-;!@[#1AH0X1x0!r+0,#6AH2X4x0!r+0,#6AH3X4x0!r+0])(-;!@[#1AH0X1x0!r+0,#6AH3X4x0!r+0])-;!@[#1AH0X1x0!r+0])-;!@[#1AH0X1x0!r+0:3]\n",
      "\n",
      " ================================================================================ \n",
      "\n",
      "layers =  3\n",
      "c1\n",
      "--------------------------------------------------\n",
      "[#6AH1X4x0!r+0,#6AH2X4x0!r+0,#6AH2X4x2r3+0,#6AH2X4x2r4+0,#6AH3X4x0!r+0:1](-[#1AH0X1x0!r+0,#6AH2X4x0!r+0,#6AH2X4x2r3+0,#6AH2X4x2r4+0,#6AH3X4x0!r+0](-[#1AH0X1x0!r+0,#6AH2X4x0!r+0,#6AH2X4x2r4+0,#6AH3X4x0!r+0](-;!@[#1AH0X1x0!r+0,#6AH3X4x0!r+0])(-;!@[#1AH0X1x0!r+0])-;!@[#1AH0X1x0!r+0])(-;!@[#1AH0X1x0!r+0])-;!@[#1AH0X1x0!r+0])(-;!@[#1AH0X1x0!r+0,#6AH3X4x0!r+0](-;!@[#1AH0X1x0!r+0])(-;!@[#1AH0X1x0!r+0])-;!@[#1AH0X1x0!r+0])(-;!@[#1AH0X1x0!r+0])-[#6AH1X4x0!r+0,#6AH2X4x0!r+0,#6AH2X4x2r3+0,#6AH2X4x2r4+0,#6AH3X4x0!r+0:2](-;!@[#1AH0X1x0!r+0,#6AH2X4x0!r+0,#6AH3X4x0!r+0](-;!@[#1AH0X1x0!r+0,#6AH2X4x0!r+0,#6AH3X4x0!r+0](-;!@[#1AH0X1x0!r+0,#6AH3X4x0!r+0])(-;!@[#1AH0X1x0!r+0])-;!@[#1AH0X1x0!r+0])(-;!@[#1AH0X1x0!r+0])-;!@[#1AH0X1x0!r+0])(-;!@[#1AH0X1x0!r+0,#6AH3X4x0!r+0](-;!@[#1AH0X1x0!r+0])(-;!@[#1AH0X1x0!r+0])-;!@[#1AH0X1x0!r+0])-[#1AH0X1x0!r+0,#6AH2X4x0!r+0,#6AH2X4x2r3+0,#6AH2X4x2r4+0,#6AH3X4x0!r+0:3](-;!@[#1AH0X1x0!r+0,#6AH2X4x0!r+0,#6AH3X4x0!r+0](-;!@[#1AH0X1x0!r+0,#6AH3X4x0!r+0](-;!@[#1AH0X1x0!r+0])(-;!@[#1AH0X1x0!r+0])-;!@[#1AH0X1x0!r+0])(-;!@[#1AH0X1x0!r+0])-;!@[#1AH0X1x0!r+0])(-;!@[#1AH0X1x0!r+0])-;!@[#1AH0X1x0!r+0]\n",
      "\n",
      "c2\n",
      "--------------------------------------------------\n",
      "[#1AH0X1x0!r+0:1]-;!@[#6AH2X4x0!r+0,#6AH2X4x2r3+0,#6AH2X4x2r4+0,#6AH3X4x0!r+0:2](-[#1AH0X1x0!r+0,#6AH2X4x0!r+0,#6AH2X4x2r3+0,#6AH2X4x2r4+0,#6AH3X4x0!r+0](-[#1AH0X1x0!r+0,#6AH2X4x2r4+0,#6AH3X4x0!r+0](-;!@[#1AH0X1x0!r+0])-;!@[#1AH0X1x0!r+0])(-;!@[#1AH0X1x0!r+0])-;!@[#1AH0X1x0!r+0])(-[#6AH1X4x0!r+0,#6AH2X4x0!r+0,#6AH2X4x2r3+0,#6AH2X4x2r4+0,#6AH3X4x0!r+0](-;!@[#1AH0X1x0!r+0,#6AH2X4x0!r+0,#6AH3X4x0!r+0](-;!@[#1AH0X1x0!r+0,#6AH2X4x0!r+0,#6AH3X4x0!r+0])(-;!@[#1AH0X1x0!r+0])-;!@[#1AH0X1x0!r+0])(-;!@[#1AH0X1x0!r+0,#6AH3X4x0!r+0](-;!@[#1AH0X1x0!r+0])(-;!@[#1AH0X1x0!r+0])-;!@[#1AH0X1x0!r+0])-;!@[#1AH0X1x0!r+0])-;!@[#1AH0X1x0!r+0:3]\n",
      "\n",
      " ================================================================================ \n",
      "\n"
     ]
    }
   ],
   "source": [
    "for l in [1,2,3]:\n",
    "    print('layers = ', l)\n",
    "    c1_graph = ClusterGraph(mols, atom_index_list[0][1], layers=l)\n",
    "    print('c1\\n'+'-'*50)\n",
    "    print(c1_graph.as_smirks())\n",
    "    c2_graph = ClusterGraph(mols, atom_index_list[1][1], layers=l)\n",
    "    print()\n",
    "    print('c2\\n'+'-'*50)\n",
    "    print(c2_graph.as_smirks())\n",
    "    print('\\n', '='*80, '\\n')"
   ]
  },
  {
   "cell_type": "markdown",
   "metadata": {},
   "source": [
    "## Where do you go from here\n",
    "\n",
    "As you see above, the `ClusterGraph` SMIRKS are significantly more complicated and specific than the input SMIRKS. \n",
    "For example, the input SMIRKS for `c1` is `[*:1]~[#6X4:2]-[*:3]`, \n",
    "however `ClusterGraph` creates this monstrosity:\n",
    "\n",
    "```\n",
    "[#6AH1X4x0!r+0,#6AH2X4x0!r+0,#6AH2X4x2r3+0,#6AH2X4x2r4+0,#6AH3X4x0!r+0:1]-[#6AH1X4x0!r+0,#6AH2X4x0!r+0,#6AH2X4x2r3+0,#6AH2X4x2r4+0,#6AH3X4x0!r+0:2]-[#1AH0X1x0!r+0,#6AH2X4x0!r+0,#6AH2X4x2r3+0,#6AH2X4x2r4+0,#6AH3X4x0!r+0:3]\n",
    "```\n",
    "\n",
    "Although this pattern becomes a bit less complex with the compression:\n",
    "```\n",
    "[*!rH1x0,*!rH2x0,*!rH3x0,*H2r3x2,*H2r4x2;#6;+0;A;X4:1]-[*!rH1x0,*!rH2x0,*!rH3x0,*H2r3x2,*H2r4x2;#6;+0;A;X4:2]-[#1!rH0X1x0,#6!rH2X4x0,#6!rH3X4x0,#6H2X4r3x2,#6H2X4r4x2;+0;A:3]\n",
    "```\n",
    "\n",
    "Our goal is to generate a hierarchical list of SMIRKS would could recover the same chemistry in a different list of molecules. In order to do this we would want to generate the SMIRKS patterns for different clusters and then remove unnecessary decorators. \n",
    "\n",
    "To meet this purpose we created the `SMIRKSifier`. For details on this topic see the notebook `smirksifying_clusters` in this example folder. "
   ]
  },
  {
   "cell_type": "code",
   "execution_count": null,
   "metadata": {},
   "outputs": [],
   "source": []
  }
 ],
 "metadata": {
  "kernelspec": {
   "display_name": "Python 3",
   "language": "python",
   "name": "python3"
  },
  "language_info": {
   "codemirror_mode": {
    "name": "ipython",
    "version": 3
   },
   "file_extension": ".py",
   "mimetype": "text/x-python",
   "name": "python",
   "nbconvert_exporter": "python",
   "pygments_lexer": "ipython3",
   "version": "3.5.5"
  }
 },
 "nbformat": 4,
 "nbformat_minor": 2
}
