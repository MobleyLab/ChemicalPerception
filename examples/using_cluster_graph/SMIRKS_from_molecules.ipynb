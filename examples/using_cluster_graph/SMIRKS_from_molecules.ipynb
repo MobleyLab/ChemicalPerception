{
 "cells": [
  {
   "cell_type": "markdown",
   "metadata": {},
   "source": [
    "# Make SMIRKS from clustered subgraphs\n",
    "\n",
    "This notebook will showcase how `chemper` `ClusterGraph`s store SMIRKS decorators for a set of molecular subgraphs. \n",
    "Remember the ultimate goal here is to take clustered molecular subgraphs and create a set of SMIRKS patterns that would put those molecular subgraphs into the same groups. \n",
    "\n",
    "For example, if your initial clusters had 4 types of carbon-carbon bonds (single, aromatic, double, and triple), you would expect the final SMIRKS patterns to reflect those four categories. Keeping in mind that sorting by just bond order is unlikely to be detailed enough. \n",
    "\n",
    "The first step here is to store possible decorators for atoms and bonds in a given cluster. This notebook will attempt to walk through the code that currently exists and goals for how to move forward"
   ]
  },
  {
   "cell_type": "code",
   "execution_count": 1,
   "metadata": {},
   "outputs": [],
   "source": [
    "# import statements\n",
    "from chemper.mol_toolkits import mol_toolkit\n",
    "from chemper.graphs.cluster_graph import ClusterGraph"
   ]
  },
  {
   "cell_type": "markdown",
   "metadata": {},
   "source": [
    "The following methods are useful for this example, but will likely be useful in general. \n",
    "Therefore these will be moved to a utility script in chemper when I get a chance. "
   ]
  },
  {
   "cell_type": "code",
   "execution_count": 2,
   "metadata": {},
   "outputs": [],
   "source": [
    "def smi_file_to_mols(smi_file): \n",
    "    \"\"\"\n",
    "    returns a list of chemper Mol objects from a SMILES file\n",
    "    \"\"\"\n",
    "    f = open(smi_file, 'r')\n",
    "    lines = f.readlines()\n",
    "    f.close()\n",
    "    \n",
    "    mols = list()\n",
    "    \n",
    "    for l in lines:\n",
    "        # TODO: add mol title function or property to mol_toolkit.Mol\n",
    "        (smiles, name) = l.split()\n",
    "        mols.append(mol_toolkit.MolFromSmiles(smiles))\n",
    "    \n",
    "    print(\"Parsed %i molecules from SMILES file %s\" % (len(mols), smi_file))\n",
    "    return mols"
   ]
  },
  {
   "cell_type": "code",
   "execution_count": 3,
   "metadata": {},
   "outputs": [],
   "source": [
    "def smirks_list_from_file(smarts_file):\n",
    "    \"\"\"\n",
    "    Parses a file with the format:\n",
    "    \n",
    "    SMARTS/SMIRKS    label\n",
    "    \n",
    "    returns a smirks_list - list of tuples (SMIRKS, label)\n",
    "    \"\"\"\n",
    "    f = open(smarts_file)\n",
    "    lines = f.readlines()\n",
    "    f.close()\n",
    "    \n",
    "    smirks_list = list()\n",
    "    for l in lines:\n",
    "        splits = l.split()\n",
    "        if splits[0][0] != '#':\n",
    "            smirks_list.append( (splits[0], splits[1]) )\n",
    "            \n",
    "    return smirks_list"
   ]
  },
  {
   "cell_type": "markdown",
   "metadata": {},
   "source": [
    "## Clustering from other SMIRKS\n",
    "\n",
    "This example attempts to show how `ClusterGraph` creates a SMIRKS for already clustered sub-graphs. \n",
    "In order to create an example set of clustered subgraphs, I am taking an existing set of SMIRKS patterns\n",
    "and clustering molecular sub-graphs. \n",
    "\n",
    "The function `get_smirks_dict` makes these clusters for each molecule creating a dictionary in the form\n",
    "```python\n",
    "{\n",
    "    label: [\n",
    "        {smirks_index: atom_index}\n",
    "    ]\n",
    "}\n",
    "```"
   ]
  },
  {
   "cell_type": "code",
   "execution_count": 4,
   "metadata": {},
   "outputs": [],
   "source": [
    "def get_smirks_dict(mol, smirks_list):\n",
    "    \"\"\"\n",
    "    mol - chemper Mol object\n",
    "    smirks_list - list of tuples (SMIRKS, label)\n",
    "    \n",
    "    Returns a dictionary of listes\n",
    "    {label: [ {smirks_index: atom_index} ] }\n",
    "    \"\"\"\n",
    "    temp_dict = dict()\n",
    "    for smirks, label in smirks_list:\n",
    "        for dic in mol.smirks_search(smirks):\n",
    "            atom_tuple = tuple([dic[i+1].get_index() for i in range(len(dic))])\n",
    "            temp_dict[atom_tuple] = label\n",
    "\n",
    "    label_dict = dict()\n",
    "    for atom_tuple, label in temp_dict.items():\n",
    "        if label not in label_dict:\n",
    "            label_dict[label] = list()\n",
    "\n",
    "        label_dict[label].append({i+1: atom_idx for i, atom_idx in enumerate(atom_tuple) })\n",
    "\n",
    "    return label_dict"
   ]
  },
  {
   "cell_type": "markdown",
   "metadata": {},
   "source": [
    "## Start with a single molecule\n",
    "\n",
    "For the first example, we will start with just one molecule (ethane) and extract the clusters matching the SMIRKS patterns in the example smarts file `angles.smarts` in this directory.\n",
    "\n",
    "Start by loading the smriks in angles.smarts, shown below"
   ]
  },
  {
   "cell_type": "code",
   "execution_count": 37,
   "metadata": {
    "scrolled": true
   },
   "outputs": [
    {
     "name": "stdout",
     "output_type": "stream",
     "text": [
      "c1 \t [*:1]~[#6X4:2]-[*:3]\n",
      "c2 \t [#1:1]-[#6X4:2]-[#1:3]\n",
      "c3 \t [*;r3:1]1~;@[*;r3:2]~;@[*;r3:3]1\n",
      "c4 \t [*;r3:1]~;@[*;r3:2]~;!@[*:3]\n",
      "c5 \t [*:1]~;!@[*;r3:2]~;!@[*:3]\n",
      "c6 \t [#1:1]-[*;r3:2]~;!@[*:3]\n",
      "c7 \t [#6r4:1]-;@[#6r4:2]-;@[#6r4:3]\n",
      "c8 \t [!#1:1]-[#6r4:2]-;!@[!#1:3]\n",
      "c9 \t [!#1:1]-[#6r4:2]-;!@[#1:3]\n",
      "c10 \t [*:1]~[#6X3:2]~[*:3]\n",
      "c11 \t [#1:1]-[#6X3:2]~[*:3]\n",
      "c12 \t [#1:1]-[#6X3:2]-[#1:3]\n",
      "c13 \t [*;r6:1]~;@[*;r5:2]~;@[*;r5;x2:3]\n",
      "c14 \t [*:1]~;!@[*;r5:2]~;@[*;r5:3]\n",
      "c15 \t [#8X1:1]~[#6X3:2]~[#8:3]\n",
      "c16 \t [*:1]~[#6X2:2]~[*:3]\n"
     ]
    }
   ],
   "source": [
    "smirks_list = smirks_list_from_file('angles.smarts')\n",
    "# I'm going to convert this to a dictionary in the form label:smirks for convenience later\n",
    "label_dict = dict()\n",
    "for smirks, label in smirks_list:\n",
    "    print(label,'\\t',smirks)"
   ]
  },
  {
   "cell_type": "markdown",
   "metadata": {},
   "source": [
    "Next we need to create the ethan molecule and type it with the SMIRKS from angles.smarts"
   ]
  },
  {
   "cell_type": "code",
   "execution_count": 18,
   "metadata": {},
   "outputs": [
    {
     "name": "stdout",
     "output_type": "stream",
     "text": [
      "dict_keys(['c1', 'c2'])\n"
     ]
    }
   ],
   "source": [
    "mol = mol_toolkit.MolFromSmiles('CC')\n",
    "atom_index_list = get_smirks_dict(mol, smirks_list)\n",
    "# ethane only has two matching SMIRKS patterns\n",
    "print(atom_index_list.keys())"
   ]
  },
  {
   "cell_type": "markdown",
   "metadata": {},
   "source": [
    "Then we will look at the `ClusterGraph` for the set of atoms matching the Angle parameter `c1` (`[*:1]~[#6X4:2]-[*:3]`). That is the angle centered on a tetrahedral carbon with any two outer atoms. For ethane, this parameter is chosen when at least one of the outer atoms is not hydrogen, so H-C-C, C-C-H, or C-C-C are all assigned `c1`\n",
    "\n",
    "This ethan molecule has 12 sets of atoms matching this label."
   ]
  },
  {
   "cell_type": "code",
   "execution_count": 27,
   "metadata": {
    "scrolled": false
   },
   "outputs": [
    {
     "name": "stdout",
     "output_type": "stream",
     "text": [
      "{1: 1, 2: 0, 3: 3}\n",
      "{1: 0, 2: 1, 3: 6}\n",
      "{1: 0, 2: 1, 3: 5}\n",
      "{1: 4, 2: 0, 3: 1}\n",
      "{1: 1, 2: 0, 3: 4}\n",
      "{1: 0, 2: 1, 3: 7}\n",
      "{1: 5, 2: 1, 3: 0}\n",
      "{1: 2, 2: 0, 3: 1}\n",
      "{1: 6, 2: 1, 3: 0}\n",
      "{1: 3, 2: 0, 3: 1}\n",
      "{1: 1, 2: 0, 3: 2}\n",
      "{1: 7, 2: 1, 3: 0}\n",
      "11\n"
     ]
    }
   ],
   "source": [
    "c1_atoms = atom_index_list['c1']\n",
    "for idx, dic in enumerate(c1_atoms):\n",
    "    print(dic)\n",
    "print(idx)"
   ]
  },
  {
   "cell_type": "markdown",
   "metadata": {},
   "source": [
    "However, `ClusterGraph` stores only stores unique options for each atom. \n",
    "So atom `:2` is always a tetrahedral carbon, while atoms `:1` and `:3` can be hydrogens or carbons"
   ]
  },
  {
   "cell_type": "code",
   "execution_count": 30,
   "metadata": {},
   "outputs": [
    {
     "name": "stdout",
     "output_type": "stream",
     "text": [
      "[#1AH0X1x0r0+0,#6AH3X4x0r0+0:1]-;!@[#6AH3X4x0r0+0:2]-;!@[#1AH0X1x0r0+0,#6AH3X4x0r0+0:3]\n"
     ]
    }
   ],
   "source": [
    "graph = ClusterGraph([mol], [c1_atoms])\n",
    "print(graph.as_smirks())"
   ]
  },
  {
   "cell_type": "markdown",
   "metadata": {},
   "source": [
    "## Multiple molecules at once\n",
    "\n",
    "Now that you have the general idea, lets consider a more complex case,\n",
    "Lets create a `ClusterGraph` for every label the `smirks_list` from above for\n",
    "a more diverse set of molecules (from `carbon.smi`). \n",
    "\n",
    "To do this I created `make_cluster_graphs` which takes a list of chemper Mol ojects and a `smirks_list` like the one created above having SMIRKS and labels. It returns a dictionary storing a `ClusterGraph` for every label in smirks_list that matched any molecule provided."
   ]
  },
  {
   "cell_type": "code",
   "execution_count": 35,
   "metadata": {},
   "outputs": [],
   "source": [
    "def make_cluster_graphs(molecules, smirks_list):\n",
    "    \"\"\"\n",
    "    molecules - list of chemper mols\n",
    "    smirks_list - list of tuples (SMIRKS, label)\n",
    "    \n",
    "    returns a dictionary of chemper ClusterGraphs:\n",
    "    {label: ClusterGraph} object\n",
    "    \"\"\"\n",
    "    graph_dict = dict()\n",
    "    for mol in molecules:\n",
    "        label_dict = get_smirks_dict(mol, smirks_list)\n",
    "        for label, atom_list in label_dict.items():\n",
    "            if label not in graph_dict:\n",
    "                graph_dict[label] = ClusterGraph()\n",
    "            graph_dict[label].add_mol(mol, atom_list)\n",
    "    \n",
    "    print(\"Created %i ClusterGraphs\" % len(graph_dict))\n",
    "    return graph_dict"
   ]
  },
  {
   "cell_type": "code",
   "execution_count": 36,
   "metadata": {
    "scrolled": true
   },
   "outputs": [
    {
     "name": "stdout",
     "output_type": "stream",
     "text": [
      "Parsed 43 molecules from SMILES file carbon.smi\n",
      "Created 12 ClusterGraphs\n"
     ]
    }
   ],
   "source": [
    "mols = smi_file_to_mols('carbon.smi')\n",
    "smirks_list = smirks_list_from_file('angles.smarts')\n",
    "clusters = make_cluster_graphs(mols, smirks_list)"
   ]
  },
  {
   "cell_type": "markdown",
   "metadata": {},
   "source": [
    "Lets start by just looking at the SMIRKS written by ClusterGraph first"
   ]
  },
  {
   "cell_type": "code",
   "execution_count": 40,
   "metadata": {
    "scrolled": false
   },
   "outputs": [
    {
     "name": "stdout",
     "output_type": "stream",
     "text": [
      "c1 \t [*:1]~[#6X4:2]-[*:3]\n",
      "[#1AH0X1x0r0+0,#6AH0X2x0r0+0,#6AH0X2x2r5+0,#6AH0X2x2r6+0,#6AH0X3x0r0+0,#6AH0X4x0r0+0,#6AH1X3x0r0+0,#6AH1X3x2r5+0,#6AH1X4x0r0+0,#6AH2X4x0r0+0,#6AH2X4x2r5+0,#6AH2X4x2r6+0,#6AH3X4x0r0+0,#6aH0X3x2r6+0:1]-[#6AH0X4x0r0+0,#6AH1X4x0r0+0,#6AH2X4x0r0+0,#6AH2X4x2r3+0,#6AH2X4x2r4+0,#6AH2X4x2r5+0,#6AH2X4x2r6+0,#6AH3X4x0r0+0:2]-[#1AH0X1x0r0+0,#6AH0X2x0r0+0,#6AH0X2x2r5+0,#6AH0X2x2r6+0,#6AH0X3x0r0+0,#6AH0X4x0r0+0,#6AH1X3x0r0+0,#6AH1X3x2r4+0,#6AH1X3x2r5+0,#6AH1X4x0r0+0,#6AH2X4x0r0+0,#6AH2X4x2r3+0,#6AH2X4x2r4+0,#6AH2X4x2r5+0,#6AH2X4x2r6+0,#6AH3X4x0r0+0,#6aH0X3x2r6+0:3]\n",
      "\n",
      "c2 \t [#1:1]-[#6X4:2]-[#1:3]\n",
      "[#1AH0X1x0r0+0:1]-;!@[#6AH2X4x0r0+0,#6AH2X4x2r4+0,#6AH2X4x2r5+0,#6AH2X4x2r6+0,#6AH3X4x0r0+0:2]-;!@[#1AH0X1x0r0+0:3]\n",
      "\n",
      "c3 \t [*;r3:1]1~;@[*;r3:2]~;@[*;r3:3]1\n",
      "[#6AH2X4x2r3+0:1]-;@[#6AH2X4x2r3+0:2]-;@[#6AH2X4x2r3+0:3]\n",
      "\n",
      "c4 \t [*;r3:1]~;@[*;r3:2]~;!@[*:3]\n",
      "[#6AH2X4x2r3+0:1]-;@[#6AH2X4x2r3+0:2]-;!@[#1AH0X1x0r0+0:3]\n",
      "\n",
      "c6 \t [#1:1]-[*;r3:2]~;!@[*:3]\n",
      "[#1AH0X1x0r0+0:1]-;!@[#6AH2X4x2r3+0:2]-;!@[#1AH0X1x0r0+0:3]\n",
      "\n",
      "c7 \t [#6r4:1]-;@[#6r4:2]-;@[#6r4:3]\n",
      "[#6AH1X3x2r4+0,#6AH2X4x2r4+0:1]-;@[#6AH2X4x2r4+0:2]-;@[#6AH1X3x2r4+0,#6AH2X4x2r4+0:3]\n",
      "\n",
      "c9 \t [!#1:1]-[#6r4:2]-;!@[#1:3]\n",
      "[#6AH1X3x2r4+0,#6AH2X4x2r4+0:1]-;@[#6AH2X4x2r4+0:2]-;!@[#1AH0X1x0r0+0:3]\n",
      "\n",
      "c10 \t [*:1]~[#6X3:2]~[*:3]\n",
      "[#6AH0X2x0r0+0,#6AH0X3x0r0+0,#6AH1X3x0r0+0,#6AH1X3x2r4+0,#6AH1X3x2r5+0,#6AH2X3x0r0+0,#6AH2X4x0r0+0,#6AH2X4x2r4+0,#6AH2X4x2r5+0,#6AH3X4x0r0+0,#6aH0X3x2r6+0,#6aH1X3x2r6+0:1]-,:,=[#6AH0X3x0r0+0,#6AH1X3x0r0+0,#6AH1X3x2r4+0,#6AH1X3x2r5+0,#6AH2X3x0r0+0,#6aH0X3x2r6+0,#6aH1X3x2r6+0:2]-,:,=[#1AH0X1x0r0+0,#6AH0X2x0r0+0,#6AH0X3x0r0+0,#6AH1X3x0r0+0,#6AH1X3x2r4+0,#6AH1X3x2r5+0,#6AH2X3x0r0+0,#6AH2X4x0r0+0,#6AH2X4x2r4+0,#6AH2X4x2r5+0,#6AH3X4x0r0+0,#6aH0X3x2r6+0,#6aH1X3x2r6+0:3]\n",
      "\n",
      "c11 \t [#1:1]-[#6X3:2]~[*:3]\n",
      "[#1AH0X1x0r0+0:1]-;!@[#6AH1X3x0r0+0,#6AH1X3x2r4+0,#6AH2X3x0r0+0,#6aH1X3x2r6+0:2]-,:,=[#6AH0X2x0r0+0,#6AH0X3x0r0+0,#6AH1X3x0r0+0,#6AH1X3x2r4+0,#6AH2X3x0r0+0,#6AH2X4x2r4+0,#6AH3X4x0r0+0,#6aH0X3x2r6+0,#6aH1X3x2r6+0:3]\n",
      "\n",
      "c12 \t [#1:1]-[#6X3:2]-[#1:3]\n",
      "[#1AH0X1x0r0+0:1]-;!@[#6AH2X3x0r0+0:2]-;!@[#1AH0X1x0r0+0:3]\n",
      "\n",
      "c14 \t [*:1]~;!@[*;r5:2]~;@[*;r5:3]\n",
      "[#1AH0X1x0r0+0:1]-;!@[#6AH1X3x2r5+0,#6AH2X4x2r5+0:2]-,=;@[#6AH0X2x2r5+0,#6AH1X3x2r5+0,#6AH2X4x2r5+0:3]\n",
      "\n",
      "c16 \t [*:1]~[#6X2:2]~[*:3]\n",
      "[#1AH0X1x0r0+0,#6AH0X2x0r0+0,#6AH0X2x2r5+0,#6AH0X2x2r6+0,#6AH1X2x0r0+0,#6AH1X3x0r0+0,#6AH2X3x0r0+0,#6AH2X4x0r0+0,#6AH2X4x2r5+0,#6AH2X4x2r6+0,#6AH3X4x0r0+0:1]#,-,=[#6AH0X2x0r0+0,#6AH0X2x2r5+0,#6AH0X2x2r6+0,#6AH1X2x0r0+0:2]#,-,=[#1AH0X1x0r0+0,#6AH0X2x0r0+0,#6AH0X2x2r5+0,#6AH0X2x2r6+0,#6AH1X2x0r0+0,#6AH1X3x0r0+0,#6AH2X3x0r0+0,#6AH2X4x0r0+0,#6AH2X4x2r5+0,#6AH2X4x2r6+0,#6AH3X4x0r0+0:3]\n",
      "\n"
     ]
    }
   ],
   "source": [
    "for smirks, label in smirks_list: \n",
    "    if label in clusters:\n",
    "        print(label,'\\t',smirks)\n",
    "        print(clusters[label].as_smirks())\n",
    "        print()"
   ]
  },
  {
   "cell_type": "markdown",
   "metadata": {},
   "source": [
    "# Where do you go from here\n",
    "\n",
    "As you see above, the `ClusterGraph` SMIRKS are significantly more complicated and specific than the input SMIRKS. \n",
    "For example, the input SMIRKS for `c1` is `[*:1]~[#6X4:2]-[*:3]`, \n",
    "however `ClusterGraph` creates this monstrosity:\n",
    "\n",
    "```\n",
    "[#1AH0X1x0r0+0,#6AH0X2x0r0+0,#6AH0X2x2r5+0,#6AH0X2x2r6+0,#6AH0X3x0r0+0,#6AH0X4x0r0+0,#6AH1X3x0r0+0,#6AH1X3x2r5+0,#6AH1X4x0r0+0,#6AH2X4x0r0+0,#6AH2X4x2r5+0,#6AH2X4x2r6+0,#6AH3X4x0r0+0,#6aH0X3x2r6+0:1]-[#6AH0X4x0r0+0,#6AH1X4x0r0+0,#6AH2X4x0r0+0,#6AH2X4x2r3+0,#6AH2X4x2r4+0,#6AH2X4x2r5+0,#6AH2X4x2r6+0,#6AH3X4x0r0+0:2]-[#1AH0X1x0r0+0,#6AH0X2x0r0+0,#6AH0X2x2r5+0,#6AH0X2x2r6+0,#6AH0X3x0r0+0,#6AH0X4x0r0+0,#6AH1X3x0r0+0,#6AH1X3x2r4+0,#6AH1X3x2r5+0,#6AH1X4x0r0+0,#6AH2X4x0r0+0,#6AH2X4x2r3+0,#6AH2X4x2r4+0,#6AH2X4x2r5+0,#6AH2X4x2r6+0,#6AH3X4x0r0+0,#6aH0X3x2r6+0:3]\n",
    "```\n",
    "\n",
    "The next step of this project is to take the information stored in a set of `ClusterGraphs` and determine the most simple combination that will retain the matching provided by the input sub-structures. \n",
    "There are two possible options here\n",
    "\n",
    "1. Use a MC type algorithm like in SMARTY/SMIRKY, but use `ClusterGraphs` to come up with better moves in SMIRKS space\n",
    "2. Use a less random approach by choosing an order the graph objects should go in and then removing unnecessary details to replicate a generic to most detailed pattern. \n"
   ]
  },
  {
   "cell_type": "code",
   "execution_count": null,
   "metadata": {},
   "outputs": [],
   "source": []
  }
 ],
 "metadata": {
  "kernelspec": {
   "display_name": "Python 3",
   "language": "python",
   "name": "python3"
  },
  "language_info": {
   "codemirror_mode": {
    "name": "ipython",
    "version": 3
   },
   "file_extension": ".py",
   "mimetype": "text/x-python",
   "name": "python",
   "nbconvert_exporter": "python",
   "pygments_lexer": "ipython3",
   "version": "3.5.5"
  }
 },
 "nbformat": 4,
 "nbformat_minor": 2
}
